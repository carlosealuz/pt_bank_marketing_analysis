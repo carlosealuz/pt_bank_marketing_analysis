{
 "cells": [
  {
   "cell_type": "markdown",
   "metadata": {},
   "source": [
    "# Overview\n",
    "\n",
    "On the \"portuguese_subscribed_clients\" notebook I made some EDA to understand the dataset a bit and get some information to help bank's marketing team to improve their campaign.\n",
    "\n",
    "In this notebook, I will create a solution to predict if a client will subscribe a term deposit or not. Since marketing is an area that usually spend a lot of money to increase sales, subscriptions, etc., this algorithm can substantially improve this bank financial spending to bring more people as a term subscriber.\n",
    "\n",
    "So, let's do this!"
   ]
  },
  {
   "cell_type": "code",
   "execution_count": 1,
   "metadata": {},
   "outputs": [],
   "source": [
    "#importing libraries\n",
    "import pandas as pd\n",
    "import numpy as np\n",
    "import calendar"
   ]
  },
  {
   "cell_type": "code",
   "execution_count": 2,
   "metadata": {},
   "outputs": [
    {
     "data": {
      "text/html": [
       "<div>\n",
       "<style scoped>\n",
       "    .dataframe tbody tr th:only-of-type {\n",
       "        vertical-align: middle;\n",
       "    }\n",
       "\n",
       "    .dataframe tbody tr th {\n",
       "        vertical-align: top;\n",
       "    }\n",
       "\n",
       "    .dataframe thead th {\n",
       "        text-align: right;\n",
       "    }\n",
       "</style>\n",
       "<table border=\"1\" class=\"dataframe\">\n",
       "  <thead>\n",
       "    <tr style=\"text-align: right;\">\n",
       "      <th></th>\n",
       "      <th>age</th>\n",
       "      <th>job</th>\n",
       "      <th>marital</th>\n",
       "      <th>education</th>\n",
       "      <th>default</th>\n",
       "      <th>balance</th>\n",
       "      <th>housing</th>\n",
       "      <th>loan</th>\n",
       "      <th>contact</th>\n",
       "      <th>day</th>\n",
       "      <th>month</th>\n",
       "      <th>duration</th>\n",
       "      <th>campaign</th>\n",
       "      <th>pdays</th>\n",
       "      <th>previous</th>\n",
       "      <th>poutcome</th>\n",
       "      <th>y</th>\n",
       "    </tr>\n",
       "  </thead>\n",
       "  <tbody>\n",
       "    <tr>\n",
       "      <th>0</th>\n",
       "      <td>58</td>\n",
       "      <td>management</td>\n",
       "      <td>married</td>\n",
       "      <td>tertiary</td>\n",
       "      <td>no</td>\n",
       "      <td>2143</td>\n",
       "      <td>yes</td>\n",
       "      <td>no</td>\n",
       "      <td>unknown</td>\n",
       "      <td>5</td>\n",
       "      <td>may</td>\n",
       "      <td>261</td>\n",
       "      <td>1</td>\n",
       "      <td>-1</td>\n",
       "      <td>0</td>\n",
       "      <td>unknown</td>\n",
       "      <td>no</td>\n",
       "    </tr>\n",
       "    <tr>\n",
       "      <th>1</th>\n",
       "      <td>44</td>\n",
       "      <td>technician</td>\n",
       "      <td>single</td>\n",
       "      <td>secondary</td>\n",
       "      <td>no</td>\n",
       "      <td>29</td>\n",
       "      <td>yes</td>\n",
       "      <td>no</td>\n",
       "      <td>unknown</td>\n",
       "      <td>5</td>\n",
       "      <td>may</td>\n",
       "      <td>151</td>\n",
       "      <td>1</td>\n",
       "      <td>-1</td>\n",
       "      <td>0</td>\n",
       "      <td>unknown</td>\n",
       "      <td>no</td>\n",
       "    </tr>\n",
       "    <tr>\n",
       "      <th>2</th>\n",
       "      <td>33</td>\n",
       "      <td>entrepreneur</td>\n",
       "      <td>married</td>\n",
       "      <td>secondary</td>\n",
       "      <td>no</td>\n",
       "      <td>2</td>\n",
       "      <td>yes</td>\n",
       "      <td>yes</td>\n",
       "      <td>unknown</td>\n",
       "      <td>5</td>\n",
       "      <td>may</td>\n",
       "      <td>76</td>\n",
       "      <td>1</td>\n",
       "      <td>-1</td>\n",
       "      <td>0</td>\n",
       "      <td>unknown</td>\n",
       "      <td>no</td>\n",
       "    </tr>\n",
       "    <tr>\n",
       "      <th>3</th>\n",
       "      <td>47</td>\n",
       "      <td>blue-collar</td>\n",
       "      <td>married</td>\n",
       "      <td>unknown</td>\n",
       "      <td>no</td>\n",
       "      <td>1506</td>\n",
       "      <td>yes</td>\n",
       "      <td>no</td>\n",
       "      <td>unknown</td>\n",
       "      <td>5</td>\n",
       "      <td>may</td>\n",
       "      <td>92</td>\n",
       "      <td>1</td>\n",
       "      <td>-1</td>\n",
       "      <td>0</td>\n",
       "      <td>unknown</td>\n",
       "      <td>no</td>\n",
       "    </tr>\n",
       "    <tr>\n",
       "      <th>4</th>\n",
       "      <td>33</td>\n",
       "      <td>unknown</td>\n",
       "      <td>single</td>\n",
       "      <td>unknown</td>\n",
       "      <td>no</td>\n",
       "      <td>1</td>\n",
       "      <td>no</td>\n",
       "      <td>no</td>\n",
       "      <td>unknown</td>\n",
       "      <td>5</td>\n",
       "      <td>may</td>\n",
       "      <td>198</td>\n",
       "      <td>1</td>\n",
       "      <td>-1</td>\n",
       "      <td>0</td>\n",
       "      <td>unknown</td>\n",
       "      <td>no</td>\n",
       "    </tr>\n",
       "  </tbody>\n",
       "</table>\n",
       "</div>"
      ],
      "text/plain": [
       "   age           job  marital  education default  balance housing loan  \\\n",
       "0   58    management  married   tertiary      no     2143     yes   no   \n",
       "1   44    technician   single  secondary      no       29     yes   no   \n",
       "2   33  entrepreneur  married  secondary      no        2     yes  yes   \n",
       "3   47   blue-collar  married    unknown      no     1506     yes   no   \n",
       "4   33       unknown   single    unknown      no        1      no   no   \n",
       "\n",
       "   contact  day month  duration  campaign  pdays  previous poutcome   y  \n",
       "0  unknown    5   may       261         1     -1         0  unknown  no  \n",
       "1  unknown    5   may       151         1     -1         0  unknown  no  \n",
       "2  unknown    5   may        76         1     -1         0  unknown  no  \n",
       "3  unknown    5   may        92         1     -1         0  unknown  no  \n",
       "4  unknown    5   may       198         1     -1         0  unknown  no  "
      ]
     },
     "execution_count": 2,
     "metadata": {},
     "output_type": "execute_result"
    }
   ],
   "source": [
    "df = pd.read_csv('dataset/bank-full.csv', sep=';')\n",
    "df.head()"
   ]
  },
  {
   "cell_type": "markdown",
   "metadata": {},
   "source": [
    "On the EDA notebook I mentioned that\n",
    "\"If we interpret contact unknown as a missing data, 29% of this column will be missing. This data is from 2008 and 2010 and at that time, Portugal population was around 10,5 million with around [13 million mobile phone subscribers](https://www.theglobaleconomy.com/Portugal/Mobile_phone_subscribers/) (some users might had more than one line?). So, I will change \"unknown\" for cellular here.\"\n",
    "\n",
    "I will also transform 'pdays' in a categorical column and 'month' to values"
   ]
  },
  {
   "cell_type": "code",
   "execution_count": 3,
   "metadata": {},
   "outputs": [],
   "source": [
    "#mapping unknown values to cellular\n",
    "df['contact'] = df.contact.apply(lambda x: 'cellular' if x=='unknown' else x)\n",
    "\n",
    "# creating new column to transform pdays in categories\n",
    "df['campaign_contact'] = df.pdays.apply(lambda x: 'never_contacted' if x<0 else 'already_contacted')\n",
    "\n",
    "#month to number\n",
    "abbr_to_num = {name.lower(): num for num, name in enumerate(calendar.month_abbr) if num}\n",
    "df['month'] = df['month'].apply(lambda x: abbr_to_num[x])"
   ]
  },
  {
   "cell_type": "markdown",
   "metadata": {},
   "source": [
    "converting output data to numeric"
   ]
  },
  {
   "cell_type": "code",
   "execution_count": 4,
   "metadata": {},
   "outputs": [],
   "source": [
    "df['y'] = df['y'].map({'no':0,\n",
    "                       'yes':1})"
   ]
  },
  {
   "cell_type": "markdown",
   "metadata": {},
   "source": [
    "And the column poutcome have 82% of \"missing data\" (unknown) I will drop it and will not use on the model."
   ]
  },
  {
   "cell_type": "code",
   "execution_count": 5,
   "metadata": {},
   "outputs": [],
   "source": [
    "df.drop(['poutcome', 'pdays'], axis=1, inplace=True)"
   ]
  },
  {
   "cell_type": "markdown",
   "metadata": {},
   "source": [
    "And I will drop one more column. Duration is only available once a call is done so, this should be dropped since we can't know each call duration prior to its occurence."
   ]
  },
  {
   "cell_type": "code",
   "execution_count": 11,
   "metadata": {},
   "outputs": [],
   "source": [
    "df.drop(['duration'], axis=1, inplace=True)"
   ]
  },
  {
   "cell_type": "code",
   "execution_count": 12,
   "metadata": {},
   "outputs": [
    {
     "data": {
      "text/html": [
       "<div>\n",
       "<style scoped>\n",
       "    .dataframe tbody tr th:only-of-type {\n",
       "        vertical-align: middle;\n",
       "    }\n",
       "\n",
       "    .dataframe tbody tr th {\n",
       "        vertical-align: top;\n",
       "    }\n",
       "\n",
       "    .dataframe thead th {\n",
       "        text-align: right;\n",
       "    }\n",
       "</style>\n",
       "<table border=\"1\" class=\"dataframe\">\n",
       "  <thead>\n",
       "    <tr style=\"text-align: right;\">\n",
       "      <th></th>\n",
       "      <th>age</th>\n",
       "      <th>balance</th>\n",
       "      <th>day</th>\n",
       "      <th>month</th>\n",
       "      <th>campaign</th>\n",
       "      <th>previous</th>\n",
       "      <th>y</th>\n",
       "    </tr>\n",
       "  </thead>\n",
       "  <tbody>\n",
       "    <tr>\n",
       "      <th>count</th>\n",
       "      <td>45211.000000</td>\n",
       "      <td>45211.000000</td>\n",
       "      <td>45211.000000</td>\n",
       "      <td>45211.000000</td>\n",
       "      <td>45211.000000</td>\n",
       "      <td>45211.000000</td>\n",
       "      <td>45211.000000</td>\n",
       "    </tr>\n",
       "    <tr>\n",
       "      <th>mean</th>\n",
       "      <td>40.936210</td>\n",
       "      <td>1362.272058</td>\n",
       "      <td>15.806419</td>\n",
       "      <td>6.144655</td>\n",
       "      <td>2.763841</td>\n",
       "      <td>0.580323</td>\n",
       "      <td>0.116985</td>\n",
       "    </tr>\n",
       "    <tr>\n",
       "      <th>std</th>\n",
       "      <td>10.618762</td>\n",
       "      <td>3044.765829</td>\n",
       "      <td>8.322476</td>\n",
       "      <td>2.408034</td>\n",
       "      <td>3.098021</td>\n",
       "      <td>2.303441</td>\n",
       "      <td>0.321406</td>\n",
       "    </tr>\n",
       "    <tr>\n",
       "      <th>min</th>\n",
       "      <td>18.000000</td>\n",
       "      <td>-8019.000000</td>\n",
       "      <td>1.000000</td>\n",
       "      <td>1.000000</td>\n",
       "      <td>1.000000</td>\n",
       "      <td>0.000000</td>\n",
       "      <td>0.000000</td>\n",
       "    </tr>\n",
       "    <tr>\n",
       "      <th>25%</th>\n",
       "      <td>33.000000</td>\n",
       "      <td>72.000000</td>\n",
       "      <td>8.000000</td>\n",
       "      <td>5.000000</td>\n",
       "      <td>1.000000</td>\n",
       "      <td>0.000000</td>\n",
       "      <td>0.000000</td>\n",
       "    </tr>\n",
       "    <tr>\n",
       "      <th>50%</th>\n",
       "      <td>39.000000</td>\n",
       "      <td>448.000000</td>\n",
       "      <td>16.000000</td>\n",
       "      <td>6.000000</td>\n",
       "      <td>2.000000</td>\n",
       "      <td>0.000000</td>\n",
       "      <td>0.000000</td>\n",
       "    </tr>\n",
       "    <tr>\n",
       "      <th>75%</th>\n",
       "      <td>48.000000</td>\n",
       "      <td>1428.000000</td>\n",
       "      <td>21.000000</td>\n",
       "      <td>8.000000</td>\n",
       "      <td>3.000000</td>\n",
       "      <td>0.000000</td>\n",
       "      <td>0.000000</td>\n",
       "    </tr>\n",
       "    <tr>\n",
       "      <th>max</th>\n",
       "      <td>95.000000</td>\n",
       "      <td>102127.000000</td>\n",
       "      <td>31.000000</td>\n",
       "      <td>12.000000</td>\n",
       "      <td>63.000000</td>\n",
       "      <td>275.000000</td>\n",
       "      <td>1.000000</td>\n",
       "    </tr>\n",
       "  </tbody>\n",
       "</table>\n",
       "</div>"
      ],
      "text/plain": [
       "                age        balance           day         month      campaign  \\\n",
       "count  45211.000000   45211.000000  45211.000000  45211.000000  45211.000000   \n",
       "mean      40.936210    1362.272058     15.806419      6.144655      2.763841   \n",
       "std       10.618762    3044.765829      8.322476      2.408034      3.098021   \n",
       "min       18.000000   -8019.000000      1.000000      1.000000      1.000000   \n",
       "25%       33.000000      72.000000      8.000000      5.000000      1.000000   \n",
       "50%       39.000000     448.000000     16.000000      6.000000      2.000000   \n",
       "75%       48.000000    1428.000000     21.000000      8.000000      3.000000   \n",
       "max       95.000000  102127.000000     31.000000     12.000000     63.000000   \n",
       "\n",
       "           previous             y  \n",
       "count  45211.000000  45211.000000  \n",
       "mean       0.580323      0.116985  \n",
       "std        2.303441      0.321406  \n",
       "min        0.000000      0.000000  \n",
       "25%        0.000000      0.000000  \n",
       "50%        0.000000      0.000000  \n",
       "75%        0.000000      0.000000  \n",
       "max      275.000000      1.000000  "
      ]
     },
     "execution_count": 12,
     "metadata": {},
     "output_type": "execute_result"
    }
   ],
   "source": [
    "df.describe()"
   ]
  },
  {
   "cell_type": "code",
   "execution_count": 13,
   "metadata": {},
   "outputs": [
    {
     "data": {
      "text/plain": [
       "age                  int64\n",
       "job                 object\n",
       "marital             object\n",
       "education           object\n",
       "default             object\n",
       "balance              int64\n",
       "housing             object\n",
       "loan                object\n",
       "contact             object\n",
       "day                  int64\n",
       "month                int64\n",
       "campaign             int64\n",
       "previous             int64\n",
       "y                    int64\n",
       "campaign_contact    object\n",
       "dtype: object"
      ]
     },
     "execution_count": 13,
     "metadata": {},
     "output_type": "execute_result"
    }
   ],
   "source": [
    "df.dtypes"
   ]
  },
  {
   "cell_type": "markdown",
   "metadata": {},
   "source": [
    "Taking a look at cardinality for categorical columns"
   ]
  },
  {
   "cell_type": "code",
   "execution_count": 14,
   "metadata": {},
   "outputs": [
    {
     "name": "stdout",
     "output_type": "stream",
     "text": [
      "Column job have 12 unique values\n",
      "Column marital have 3 unique values\n",
      "Column education have 4 unique values\n",
      "Column default have 2 unique values\n",
      "Column housing have 2 unique values\n",
      "Column loan have 2 unique values\n",
      "Column contact have 2 unique values\n",
      "Column campaign_contact have 2 unique values\n"
     ]
    }
   ],
   "source": [
    "object_columns = df.loc[:, df.dtypes == object].columns\n",
    "for column in object_columns:\n",
    "    unique_data = df[column].unique().tolist()\n",
    "    print(f'Column {column} have {len(unique_data)} unique values')"
   ]
  },
  {
   "cell_type": "code",
   "execution_count": 15,
   "metadata": {},
   "outputs": [
    {
     "name": "stdout",
     "output_type": "stream",
     "text": [
      "X_train size:  (31647, 14)\n",
      "X_train size:  (31647,)\n",
      "X_train size:  (13564, 14)\n",
      "X_train size:  (13564,)\n"
     ]
    }
   ],
   "source": [
    "# split train test data\n",
    "from sklearn.model_selection import train_test_split\n",
    "\n",
    "X = df.drop('y', axis=1)\n",
    "y = df['y']\n",
    "\n",
    "X_train, X_test, y_train, y_test = train_test_split(X, y, test_size=.3, random_state=12, stratify=y)\n",
    "print(\"X_train size: \", X_train.shape)\n",
    "print(\"X_train size: \", y_train.shape)\n",
    "print(\"X_train size: \", X_test.shape)\n",
    "print(\"X_train size: \", y_test.shape)\n"
   ]
  },
  {
   "cell_type": "markdown",
   "metadata": {},
   "source": [
    "Since all columns have low cardinality (unique values), I will encode all columns and train a model with every data available"
   ]
  },
  {
   "cell_type": "code",
   "execution_count": 16,
   "metadata": {},
   "outputs": [],
   "source": [
    "from sklearn.preprocessing import OneHotEncoder\n",
    "\n",
    "encoder = OneHotEncoder(handle_unknown='ignore')\n",
    "X_train_encoded = encoder.fit_transform(X_train)\n",
    "X_test_encoded = encoder.transform(X_test)"
   ]
  },
  {
   "cell_type": "markdown",
   "metadata": {},
   "source": [
    "# Modelo 1 - RandomForest with default hiperparameters\n",
    "\n",
    "* accuracy = 0.88\n",
    "* AUC = 0.529\n",
    "* Confusion matrix [[11897, 80\n",
    "\n",
    "                   1483, 104]]"
   ]
  },
  {
   "cell_type": "code",
   "execution_count": 17,
   "metadata": {},
   "outputs": [
    {
     "data": {
      "text/plain": [
       "RandomForestClassifier(random_state=12)"
      ]
     },
     "execution_count": 17,
     "metadata": {},
     "output_type": "execute_result"
    }
   ],
   "source": [
    "from sklearn.ensemble import RandomForestClassifier\n",
    "model = RandomForestClassifier(random_state=12)\n",
    "model.fit(X_train_encoded, y_train)"
   ]
  },
  {
   "cell_type": "code",
   "execution_count": 20,
   "metadata": {},
   "outputs": [
    {
     "name": "stdout",
     "output_type": "stream",
     "text": [
      "              precision    recall  f1-score   support\n",
      "\n",
      "          no       0.89      0.99      0.94     11977\n",
      "         yes       0.57      0.07      0.12      1587\n",
      "\n",
      "    accuracy                           0.88     13564\n",
      "   macro avg       0.73      0.53      0.53     13564\n",
      "weighted avg       0.85      0.88      0.84     13564\n",
      "\n",
      "------\n",
      "Area sob a curva AUC: 0.529\n"
     ]
    },
    {
     "data": {
      "image/png": "[encoded data removed]",
      "text/plain": [
       "<Figure size 432x288 with 1 Axes>"
      ]
     },
     "metadata": {
      "needs_background": "light"
     },
     "output_type": "display_data"
    }
   ],
   "source": [
    "from sklearn.metrics import classification_report, roc_auc_score, roc_curve, plot_roc_curve\n",
    "from sklearn.metrics import f1_score\n",
    "import matplotlib.pyplot as plt\n",
    "\n",
    "y_predicted = model.predict(X_test_encoded)\n",
    "y_predicted_prob = model.predict_proba(X_test_encoded)[:,1]\n",
    "fpr, tpr, threshold = roc_curve(y_test.values, y_predicted_prob)\n",
    "roc_auc = roc_auc_score(y_test, y_predicted)\n",
    "\n",
    "print(classification_report(y_test, y_predicted, target_names=['no','yes']))\n",
    "print('------')\n",
    "print('Area sob a curva AUC: {:.03f}'.format(roc_auc))\n",
    "\n",
    "plt.plot(fpr, tpr, lw=1)\n",
    "#plot_roc_curve(model, X_test_encoded, y_test)\n",
    "plt.plot([0,1],[0,1], '--', color=(0.6, 0.6, 0.6), label=\"sorte\")\n",
    "plt.title(\"Curva ROC\", fontsize=12) \n",
    "\n",
    "plt.show()\n"
   ]
  },
  {
   "cell_type": "code",
   "execution_count": 21,
   "metadata": {},
   "outputs": [
    {
     "data": {
      "text/plain": [
       "array([[11897,    80],\n",
       "       [ 1483,   104]], dtype=int64)"
      ]
     },
     "execution_count": 21,
     "metadata": {},
     "output_type": "execute_result"
    }
   ],
   "source": [
    "from sklearn.metrics import confusion_matrix\n",
    "cnf_matrix = confusion_matrix(y_test, y_predicted)\n",
    "cnf_matrix"
   ]
  },
  {
   "cell_type": "markdown",
   "metadata": {},
   "source": [
    "# Model 2 - Hyperparameters optimize with skopt\n",
    "\n",
    "* accuracy = 0.88\n",
    "* AUC = 0.779\n",
    "* Confusion matrix [[11943,    34\n",
    "\n",
    "                   1531,56]]\n",
    "                   \n",
    "                   \n",
    "After optimize hyperparameters our model improve on no subscribers but was worse on term deposits."
   ]
  },
  {
   "cell_type": "code",
   "execution_count": 22,
   "metadata": {},
   "outputs": [],
   "source": [
    "from skopt import gp_minimize\n",
    "\n",
    "def train_model(params):\n",
    "    n_estimators = params[0]\n",
    "    criterion = params[1]\n",
    "    max_depth = params[2]\n",
    "    min_samples_leaf = params[3]\n",
    "    min_samples_split = params[4]\n",
    "    \n",
    "    model = RandomForestClassifier(n_estimators=n_estimators, criterion=criterion, min_samples_split=min_samples_split,\n",
    "                                   max_depth=max_depth, min_samples_leaf=min_samples_leaf, random_state=12)\n",
    "    \n",
    "    model.fit(X_train_encoded, y_train)\n",
    "    Y_predicted = model.predict_proba(X_test_encoded)[:, 1]\n",
    "    \n",
    "    return - roc_auc_score(y_test, Y_predicted)"
   ]
  },
  {
   "cell_type": "code",
   "execution_count": 23,
   "metadata": {},
   "outputs": [],
   "source": [
    "space = [[100, 150, 200, 250, 300, 350, 400, 450, 500],\n",
    "         ['gini', 'entropy'], \n",
    "         [10, 20, 30, 40, 50, 60, 70, 80, 90, 100, None],\n",
    "         [1, 2, 4],\n",
    "         [2, 5, 10]]\n"
   ]
  },
  {
   "cell_type": "code",
   "execution_count": 24,
   "metadata": {},
   "outputs": [
    {
     "name": "stdout",
     "output_type": "stream",
     "text": [
      "Iteration No: 1 started. Evaluating function at random point.\n",
      "Iteration No: 1 ended. Evaluation done at random point.\n",
      "Time taken: 7.5718\n",
      "Function value obtained: -0.7600\n",
      "Current minimum: -0.7600\n",
      "Iteration No: 2 started. Evaluating function at random point.\n",
      "Iteration No: 2 ended. Evaluation done at random point.\n",
      "Time taken: 2.5193\n",
      "Function value obtained: -0.7575\n",
      "Current minimum: -0.7600\n",
      "Iteration No: 3 started. Evaluating function at random point.\n",
      "Iteration No: 3 ended. Evaluation done at random point.\n",
      "Time taken: 11.1760\n",
      "Function value obtained: -0.7624\n",
      "Current minimum: -0.7624\n",
      "Iteration No: 4 started. Evaluating function at random point.\n",
      "Iteration No: 4 ended. Evaluation done at random point.\n",
      "Time taken: 4.8300\n",
      "Function value obtained: -0.7630\n",
      "Current minimum: -0.7630\n",
      "Iteration No: 5 started. Evaluating function at random point.\n",
      "Iteration No: 5 ended. Evaluation done at random point.\n",
      "Time taken: 81.8189\n",
      "Function value obtained: -0.7755\n",
      "Current minimum: -0.7755\n",
      "Iteration No: 6 started. Evaluating function at random point.\n",
      "Iteration No: 6 ended. Evaluation done at random point.\n",
      "Time taken: 83.5520\n",
      "Function value obtained: -0.7787\n",
      "Current minimum: -0.7787\n",
      "Iteration No: 7 started. Evaluating function at random point.\n",
      "Iteration No: 7 ended. Evaluation done at random point.\n",
      "Time taken: 2.1380\n",
      "Function value obtained: -0.7531\n",
      "Current minimum: -0.7787\n",
      "Iteration No: 8 started. Evaluating function at random point.\n",
      "Iteration No: 8 ended. Evaluation done at random point.\n",
      "Time taken: 7.7990\n",
      "Function value obtained: -0.7694\n",
      "Current minimum: -0.7787\n",
      "Iteration No: 9 started. Evaluating function at random point.\n",
      "Iteration No: 9 ended. Evaluation done at random point.\n",
      "Time taken: 17.7680\n",
      "Function value obtained: -0.7664\n",
      "Current minimum: -0.7787\n",
      "Iteration No: 10 started. Evaluating function at random point.\n",
      "Iteration No: 10 ended. Evaluation done at random point.\n",
      "Time taken: 27.0084\n",
      "Function value obtained: -0.7714\n",
      "Current minimum: -0.7787\n",
      "Iteration No: 11 started. Searching for the next optimal point.\n",
      "Iteration No: 11 ended. Search finished for the next optimal point.\n",
      "Time taken: 35.9713\n",
      "Function value obtained: -0.7733\n",
      "Current minimum: -0.7787\n",
      "Iteration No: 12 started. Searching for the next optimal point.\n",
      "Iteration No: 12 ended. Search finished for the next optimal point.\n",
      "Time taken: 70.4920\n",
      "Function value obtained: -0.7774\n",
      "Current minimum: -0.7787\n",
      "Iteration No: 13 started. Searching for the next optimal point.\n",
      "Iteration No: 13 ended. Search finished for the next optimal point.\n",
      "Time taken: 16.9798\n",
      "Function value obtained: -0.7701\n",
      "Current minimum: -0.7787\n",
      "Iteration No: 14 started. Searching for the next optimal point.\n",
      "Iteration No: 14 ended. Search finished for the next optimal point.\n",
      "Time taken: 49.1490\n",
      "Function value obtained: -0.7781\n",
      "Current minimum: -0.7787\n",
      "Iteration No: 15 started. Searching for the next optimal point.\n",
      "Iteration No: 15 ended. Search finished for the next optimal point.\n",
      "Time taken: 10.0830\n",
      "Function value obtained: -0.7629\n",
      "Current minimum: -0.7787\n",
      "Iteration No: 16 started. Searching for the next optimal point.\n",
      "Iteration No: 16 ended. Search finished for the next optimal point.\n",
      "Time taken: 9.9610\n",
      "Function value obtained: -0.7681\n",
      "Current minimum: -0.7787\n",
      "Iteration No: 17 started. Searching for the next optimal point.\n",
      "Iteration No: 17 ended. Search finished for the next optimal point.\n",
      "Time taken: 16.6430\n",
      "Function value obtained: -0.7628\n",
      "Current minimum: -0.7787\n",
      "Iteration No: 18 started. Searching for the next optimal point.\n",
      "Iteration No: 18 ended. Search finished for the next optimal point.\n",
      "Time taken: 97.6620\n",
      "Function value obtained: -0.7703\n",
      "Current minimum: -0.7787\n",
      "Iteration No: 19 started. Searching for the next optimal point.\n",
      "Iteration No: 19 ended. Search finished for the next optimal point.\n",
      "Time taken: 6.1780\n",
      "Function value obtained: -0.7599\n",
      "Current minimum: -0.7787\n",
      "Iteration No: 20 started. Searching for the next optimal point.\n",
      "Iteration No: 20 ended. Search finished for the next optimal point.\n",
      "Time taken: 12.8180\n",
      "Function value obtained: -0.7676\n",
      "Current minimum: -0.7787\n",
      "Iteration No: 21 started. Searching for the next optimal point.\n",
      "Iteration No: 21 ended. Search finished for the next optimal point.\n",
      "Time taken: 31.2870\n",
      "Function value obtained: -0.7717\n",
      "Current minimum: -0.7787\n",
      "Iteration No: 22 started. Searching for the next optimal point.\n",
      "Iteration No: 22 ended. Search finished for the next optimal point.\n",
      "Time taken: 98.4386\n",
      "Function value obtained: -0.7767\n",
      "Current minimum: -0.7787\n",
      "Iteration No: 23 started. Searching for the next optimal point.\n",
      "Iteration No: 23 ended. Search finished for the next optimal point.\n",
      "Time taken: 48.6570\n",
      "Function value obtained: -0.7736\n",
      "Current minimum: -0.7787\n",
      "Iteration No: 24 started. Searching for the next optimal point.\n",
      "Iteration No: 24 ended. Search finished for the next optimal point.\n",
      "Time taken: 10.3530\n",
      "Function value obtained: -0.7572\n",
      "Current minimum: -0.7787\n",
      "Iteration No: 25 started. Searching for the next optimal point.\n",
      "Iteration No: 25 ended. Search finished for the next optimal point.\n",
      "Time taken: 53.7367\n",
      "Function value obtained: -0.7737\n",
      "Current minimum: -0.7787\n",
      "Iteration No: 26 started. Searching for the next optimal point.\n",
      "Iteration No: 26 ended. Search finished for the next optimal point.\n",
      "Time taken: 71.1944\n",
      "Function value obtained: -0.7750\n",
      "Current minimum: -0.7787\n",
      "Iteration No: 27 started. Searching for the next optimal point.\n",
      "Iteration No: 27 ended. Search finished for the next optimal point.\n",
      "Time taken: 109.8270\n",
      "Function value obtained: -0.7718\n",
      "Current minimum: -0.7787\n",
      "Iteration No: 28 started. Searching for the next optimal point.\n",
      "Iteration No: 28 ended. Search finished for the next optimal point.\n",
      "Time taken: 145.6285\n",
      "Function value obtained: -0.7683\n",
      "Current minimum: -0.7787\n",
      "Iteration No: 29 started. Searching for the next optimal point.\n",
      "Iteration No: 29 ended. Search finished for the next optimal point.\n",
      "Time taken: 26.1365\n",
      "Function value obtained: -0.7689\n",
      "Current minimum: -0.7787\n",
      "Iteration No: 30 started. Searching for the next optimal point.\n",
      "Iteration No: 30 ended. Search finished for the next optimal point.\n",
      "Time taken: 12.9432\n",
      "Function value obtained: -0.7640\n",
      "Current minimum: -0.7787\n"
     ]
    }
   ],
   "source": [
    "results = gp_minimize(train_model, space, random_state=12, verbose=1, n_calls=30, n_random_starts=10)"
   ]
  },
  {
   "cell_type": "code",
   "execution_count": 25,
   "metadata": {},
   "outputs": [
    {
     "data": {
      "text/plain": [
       "[300, 'entropy', 70, 1, 2]"
      ]
     },
     "execution_count": 25,
     "metadata": {},
     "output_type": "execute_result"
    }
   ],
   "source": [
    "results.x"
   ]
  },
  {
   "cell_type": "code",
   "execution_count": 26,
   "metadata": {},
   "outputs": [
    {
     "name": "stdout",
     "output_type": "stream",
     "text": [
      "              precision    recall  f1-score   support\n",
      "\n",
      "          no       0.89      1.00      0.94     11977\n",
      "         yes       0.62      0.04      0.07      1587\n",
      "\n",
      "    accuracy                           0.88     13564\n",
      "   macro avg       0.75      0.52      0.50     13564\n",
      "weighted avg       0.86      0.88      0.84     13564\n",
      "\n",
      "------\n",
      "Area sob a curva AUC: 0.779\n"
     ]
    },
    {
     "data": {
      "image/png": "[encoded data removed]",
      "text/plain": [
       "<Figure size 432x288 with 1 Axes>"
      ]
     },
     "metadata": {
      "needs_background": "light"
     },
     "output_type": "display_data"
    }
   ],
   "source": [
    "best_model = RandomForestClassifier(n_estimators=300, criterion='entropy', max_depth=70,\n",
    "                                    min_samples_leaf=1, min_samples_split=2, random_state=12)\n",
    "    \n",
    "best_model.fit(X_train_encoded, y_train)\n",
    "y_predicted = best_model.predict(X_test_encoded)\n",
    "y_predicted_prob = best_model.predict_proba(X_test_encoded)[:, 1]\n",
    "fpr, tpr, threshold = roc_curve(y_test.values, y_predicted_prob)\n",
    "roc_auc = roc_auc_score(y_test, y_predicted_prob)\n",
    "\n",
    "print(classification_report(y_test, y_predicted, target_names=['no','yes']))\n",
    "print('------')\n",
    "print('Area sob a curva AUC: {:.03f}'.format(roc_auc))\n",
    "\n",
    "plt.plot(fpr, tpr, lw=1)\n",
    "#plot_roc_curve(best_model, X_test_encoded, y_test)\n",
    "plt.plot([0,1],[0,1], '--', color=(0.6,0.6,0.6), label=\"sorte\")\n",
    "plt.title(\"Curva ROC\", fontsize=12)\n",
    "\n",
    "plt.show()\n"
   ]
  },
  {
   "cell_type": "code",
   "execution_count": 27,
   "metadata": {},
   "outputs": [
    {
     "data": {
      "text/plain": [
       "array([[11943,    34],\n",
       "       [ 1531,    56]], dtype=int64)"
      ]
     },
     "execution_count": 27,
     "metadata": {},
     "output_type": "execute_result"
    }
   ],
   "source": [
    "cnf_matrix = confusion_matrix(y_test, y_predicted)\n",
    "cnf_matrix"
   ]
  },
  {
   "cell_type": "code",
   "execution_count": null,
   "metadata": {},
   "outputs": [],
   "source": []
  },
  {
   "cell_type": "markdown",
   "metadata": {},
   "source": [
    "# Test Upsample\n"
   ]
  },
  {
   "cell_type": "markdown",
   "metadata": {},
   "source": [
    "Using upsample we could boost recall for positive class but with a small decrease on the negative class. Also, this increased false negatives a bit but improve true positives considerable."
   ]
  },
  {
   "cell_type": "code",
   "execution_count": 28,
   "metadata": {},
   "outputs": [],
   "source": [
    "from imblearn.over_sampling import SMOTE\n",
    "smote = SMOTE(random_state = 14)\n",
    "X_train_3, y_train_3 = smote.fit_sample(X_train_encoded, y_train)"
   ]
  },
  {
   "cell_type": "code",
   "execution_count": 29,
   "metadata": {},
   "outputs": [
    {
     "name": "stdout",
     "output_type": "stream",
     "text": [
      "              precision    recall  f1-score   support\n",
      "\n",
      "          no       0.90      0.98      0.94     11977\n",
      "         yes       0.54      0.18      0.28      1587\n",
      "\n",
      "    accuracy                           0.89     13564\n",
      "   macro avg       0.72      0.58      0.61     13564\n",
      "weighted avg       0.86      0.89      0.86     13564\n",
      "\n",
      "------\n",
      "Area sob a curva AUC: 0.771\n"
     ]
    },
    {
     "data": {
      "image/png": "[encoded data removed]",
      "text/plain": [
       "<Figure size 432x288 with 1 Axes>"
      ]
     },
     "metadata": {
      "needs_background": "light"
     },
     "output_type": "display_data"
    }
   ],
   "source": [
    "best_model_s = RandomForestClassifier(n_estimators=300, criterion='entropy', max_depth=70,\n",
    "                                    min_samples_leaf=1, min_samples_split=2, random_state=12)\n",
    "    \n",
    "best_model_s.fit(X_train_3, y_train_3)\n",
    "y1_predicted = best_model_s.predict(X_test_encoded)\n",
    "y1_predicted_prob = best_model_s.predict_proba(X_test_encoded)[:, 1]\n",
    "fpr, tpr, threshold = roc_curve(y_test.values, y1_predicted_prob)\n",
    "roc_auc = roc_auc_score(y_test, y1_predicted_prob)\n",
    "\n",
    "print(classification_report(y_test, y1_predicted, target_names=['no','yes']))\n",
    "print('------')\n",
    "print('Area sob a curva AUC: {:.03f}'.format(roc_auc))\n",
    "\n",
    "plt.plot(fpr, tpr, lw=1)\n",
    "#plot_roc_curve(best_model_s, X1_test_encoded, y1_test)\n",
    "plt.plot([0,1],[0,1], '--', color=(0.6,0.6,0.6), label=\"sorte\")\n",
    "plt.title(\"Curva ROC\", fontsize=12)\n",
    "\n",
    "plt.show()"
   ]
  },
  {
   "cell_type": "code",
   "execution_count": 30,
   "metadata": {},
   "outputs": [
    {
     "data": {
      "text/plain": [
       "array([[11727,   250],\n",
       "       [ 1294,   293]], dtype=int64)"
      ]
     },
     "execution_count": 30,
     "metadata": {},
     "output_type": "execute_result"
    }
   ],
   "source": [
    "cnf_matrix = confusion_matrix(y_test, y1_predicted)\n",
    "cnf_matrix"
   ]
  },
  {
   "cell_type": "markdown",
   "metadata": {},
   "source": [
    "# Testing with LightGBM"
   ]
  },
  {
   "cell_type": "markdown",
   "metadata": {},
   "source": [
    "So far, this is our best model. With upsampling techniques the classification report show us increase in almost all metrics and an accuracy of 90% but, precision and f1 also show us improvement. So, this could be a model to put at production maybe in an app in heroku or any cloud this bank want to subscribe. \n",
    "\n",
    "Then, marketing team coulds create a csv with users information about:\n",
    "* job\n",
    "* gender\n",
    "* marital\n",
    "* default loan\n",
    "* housing loan\n",
    "* contact - should be cellular or telephone, i.e. device the user will be contacted\n",
    "* day - day number the contact will be done\n",
    "* month - month the contact will be done\n",
    "* campaign - should be 0 if first contact with client\n",
    "* previous - number of contact the bank usually do with a client - if prospecting clients this should be zero\n",
    "\n",
    "This csv could be uploaded to the app on heroku and the app export a prediction if a client will do a deposit or not. This could improve further marketing campaigns by a lot, since the user will be targeted and will be qualified. Instead waste time calling everyone, the bank can choose users more likely to do a deposit."
   ]
  },
  {
   "cell_type": "code",
   "execution_count": 31,
   "metadata": {},
   "outputs": [
    {
     "name": "stderr",
     "output_type": "stream",
     "text": [
      "C:\\Anaconda\\lib\\site-packages\\dask\\dataframe\\utils.py:14: FutureWarning: pandas.util.testing is deprecated. Use the functions in the public API at pandas.testing instead.\n",
      "  import pandas.util.testing as tm\n"
     ]
    },
    {
     "name": "stdout",
     "output_type": "stream",
     "text": [
      "Iteration No: 1 started. Evaluating function at random point.\n",
      "Iteration No: 1 ended. Evaluation done at random point.\n",
      "Time taken: 6.8819\n",
      "Function value obtained: -0.7624\n",
      "Current minimum: -0.7624\n",
      "Iteration No: 2 started. Evaluating function at random point.\n",
      "Iteration No: 2 ended. Evaluation done at random point.\n",
      "Time taken: 0.8160\n",
      "Function value obtained: -0.7432\n",
      "Current minimum: -0.7624\n",
      "Iteration No: 3 started. Evaluating function at random point.\n",
      "Iteration No: 3 ended. Evaluation done at random point.\n",
      "Time taken: 1.1640\n",
      "Function value obtained: -0.7560\n",
      "Current minimum: -0.7624\n",
      "Iteration No: 4 started. Evaluating function at random point.\n",
      "Iteration No: 4 ended. Evaluation done at random point.\n",
      "Time taken: 1.1050\n",
      "Function value obtained: -0.7504\n",
      "Current minimum: -0.7624\n",
      "Iteration No: 5 started. Evaluating function at random point.\n",
      "Iteration No: 5 ended. Evaluation done at random point.\n",
      "Time taken: 0.3880\n",
      "Function value obtained: -0.7236\n",
      "Current minimum: -0.7624\n",
      "Iteration No: 6 started. Evaluating function at random point.\n",
      "Iteration No: 6 ended. Evaluation done at random point.\n",
      "Time taken: 1.0800\n",
      "Function value obtained: -0.7250\n",
      "Current minimum: -0.7624\n",
      "Iteration No: 7 started. Evaluating function at random point.\n",
      "Iteration No: 7 ended. Evaluation done at random point.\n",
      "Time taken: 0.4970\n",
      "Function value obtained: -0.7059\n",
      "Current minimum: -0.7624\n",
      "Iteration No: 8 started. Evaluating function at random point.\n",
      "Iteration No: 8 ended. Evaluation done at random point.\n",
      "Time taken: 1.2270\n",
      "Function value obtained: -0.7484\n",
      "Current minimum: -0.7624\n",
      "Iteration No: 9 started. Evaluating function at random point.\n",
      "Iteration No: 9 ended. Evaluation done at random point.\n",
      "Time taken: 0.8600\n",
      "Function value obtained: -0.7454\n",
      "Current minimum: -0.7624\n",
      "Iteration No: 10 started. Evaluating function at random point.\n",
      "Iteration No: 10 ended. Evaluation done at random point.\n",
      "Time taken: 0.3640\n",
      "Function value obtained: -0.6955\n",
      "Current minimum: -0.7624\n",
      "Iteration No: 11 started. Evaluating function at random point.\n",
      "Iteration No: 11 ended. Evaluation done at random point.\n",
      "Time taken: 2.8188\n",
      "Function value obtained: -0.7643\n",
      "Current minimum: -0.7643\n",
      "Iteration No: 12 started. Evaluating function at random point.\n",
      "Iteration No: 12 ended. Evaluation done at random point.\n",
      "Time taken: 1.5700\n",
      "Function value obtained: -0.7602\n",
      "Current minimum: -0.7643\n",
      "Iteration No: 13 started. Evaluating function at random point.\n",
      "Iteration No: 13 ended. Evaluation done at random point.\n",
      "Time taken: 3.1558\n",
      "Function value obtained: -0.7519\n",
      "Current minimum: -0.7643\n",
      "Iteration No: 14 started. Evaluating function at random point.\n",
      "Iteration No: 14 ended. Evaluation done at random point.\n",
      "Time taken: 0.6650\n",
      "Function value obtained: -0.7300\n",
      "Current minimum: -0.7643\n",
      "Iteration No: 15 started. Evaluating function at random point.\n",
      "Iteration No: 15 ended. Evaluation done at random point.\n",
      "Time taken: 2.2740\n",
      "Function value obtained: -0.7704\n",
      "Current minimum: -0.7704\n",
      "Iteration No: 16 started. Evaluating function at random point.\n",
      "Iteration No: 16 ended. Evaluation done at random point.\n",
      "Time taken: 4.3400\n",
      "Function value obtained: -0.7501\n",
      "Current minimum: -0.7704\n",
      "Iteration No: 17 started. Evaluating function at random point.\n",
      "Iteration No: 17 ended. Evaluation done at random point.\n",
      "Time taken: 0.9470\n",
      "Function value obtained: -0.7268\n",
      "Current minimum: -0.7704\n",
      "Iteration No: 18 started. Evaluating function at random point.\n",
      "Iteration No: 18 ended. Evaluation done at random point.\n",
      "Time taken: 0.2420\n",
      "Function value obtained: -0.6923\n",
      "Current minimum: -0.7704\n",
      "Iteration No: 19 started. Evaluating function at random point.\n",
      "Iteration No: 19 ended. Evaluation done at random point.\n",
      "Time taken: 0.8550\n",
      "Function value obtained: -0.7279\n",
      "Current minimum: -0.7704\n",
      "Iteration No: 20 started. Evaluating function at random point.\n",
      "Iteration No: 20 ended. Evaluation done at random point.\n",
      "Time taken: 0.6800\n",
      "Function value obtained: -0.7157\n",
      "Current minimum: -0.7704\n",
      "Iteration No: 21 started. Evaluating function at random point.\n",
      "Iteration No: 21 ended. Evaluation done at random point.\n",
      "Time taken: 1.4650\n",
      "Function value obtained: -0.7298\n",
      "Current minimum: -0.7704\n",
      "Iteration No: 22 started. Evaluating function at random point.\n",
      "Iteration No: 22 ended. Evaluation done at random point.\n",
      "Time taken: 1.0690\n",
      "Function value obtained: -0.7198\n",
      "Current minimum: -0.7704\n",
      "Iteration No: 23 started. Evaluating function at random point.\n",
      "Iteration No: 23 ended. Evaluation done at random point.\n",
      "Time taken: 0.5010\n",
      "Function value obtained: -0.7251\n",
      "Current minimum: -0.7704\n",
      "Iteration No: 24 started. Evaluating function at random point.\n",
      "Iteration No: 24 ended. Evaluation done at random point.\n",
      "Time taken: 0.7930\n",
      "Function value obtained: -0.7200\n",
      "Current minimum: -0.7704\n",
      "Iteration No: 25 started. Evaluating function at random point.\n",
      "Iteration No: 25 ended. Evaluation done at random point.\n",
      "Time taken: 2.3140\n",
      "Function value obtained: -0.7667\n",
      "Current minimum: -0.7704\n",
      "Iteration No: 26 started. Evaluating function at random point.\n",
      "Iteration No: 26 ended. Evaluation done at random point.\n",
      "Time taken: 0.5500\n",
      "Function value obtained: -0.7373\n",
      "Current minimum: -0.7704\n",
      "Iteration No: 27 started. Evaluating function at random point.\n",
      "Iteration No: 27 ended. Evaluation done at random point.\n",
      "Time taken: 0.4210\n",
      "Function value obtained: -0.7319\n",
      "Current minimum: -0.7704\n",
      "Iteration No: 28 started. Evaluating function at random point.\n",
      "Iteration No: 28 ended. Evaluation done at random point.\n",
      "Time taken: 3.3394\n",
      "Function value obtained: -0.7764\n",
      "Current minimum: -0.7764\n",
      "Iteration No: 29 started. Evaluating function at random point.\n",
      "Iteration No: 29 ended. Evaluation done at random point.\n",
      "Time taken: 0.2970\n",
      "Function value obtained: -0.7123\n",
      "Current minimum: -0.7764\n",
      "Iteration No: 30 started. Evaluating function at random point.\n",
      "Iteration No: 30 ended. Evaluation done at random point.\n",
      "Time taken: 2.4630\n",
      "Function value obtained: -0.7592\n",
      "Current minimum: -0.7764\n"
     ]
    }
   ],
   "source": [
    "from skopt import gp_minimize, dummy_minimize\n",
    "from lightgbm import LGBMClassifier\n",
    "\n",
    "def train_model_lgbm(params):\n",
    "    #n_estimators = params[0]\n",
    "    num_leaves = params[0]\n",
    "    min_child_samples = params[1]\n",
    "    subsample = params[2]\n",
    "    colsample_bytree = params[3]\n",
    "    learning_rate = params[4]\n",
    "    n_estimators = params[5]\n",
    "    \n",
    "    model = LGBMClassifier(n_estimators=n_estimators, num_leaves=num_leaves, min_child_samples=min_child_samples, subsample_freq=1,\n",
    "                           subsample=subsample, colsample_bytree=colsample_bytree, learning_rate=learning_rate, random_state=12)\n",
    "    \n",
    "    model.fit(X_train_encoded, y_train)\n",
    "    Y_predicted = model.predict_proba(X_test_encoded)[:, 1]\n",
    "    \n",
    "    return - roc_auc_score(y_test, Y_predicted)\n",
    "\n",
    "space_lgbm = [(2, 128, 2), #num_leaves\n",
    "              (5, 100), #min_child_samples\n",
    "              (0.05, 1.0), #subsample\n",
    "              (0.1, 1.0), #colsample_bytree\n",
    "              (1e-3, 1e-1, 'log-uniform'), #learning_rate\n",
    "              [100, 150, 200, 250, 300, 350, 400, 450, 500] #n_estimators\n",
    "             ]\n",
    "\n",
    "resultado_lgbm = dummy_minimize(train_model_lgbm, space_lgbm, random_state=12, verbose=1, n_calls=30)"
   ]
  },
  {
   "cell_type": "code",
   "execution_count": 32,
   "metadata": {},
   "outputs": [
    {
     "data": {
      "text/plain": [
       "[128, 51, 0.9062336770993858, 0.9681996651671865, 0.02294802765741686, 250]"
      ]
     },
     "execution_count": 32,
     "metadata": {},
     "output_type": "execute_result"
    }
   ],
   "source": [
    "resultado_lgbm.x"
   ]
  },
  {
   "cell_type": "code",
   "execution_count": 33,
   "metadata": {},
   "outputs": [
    {
     "name": "stdout",
     "output_type": "stream",
     "text": [
      "              precision    recall  f1-score   support\n",
      "\n",
      "          no       0.91      0.97      0.94     11977\n",
      "         yes       0.53      0.26      0.35      1587\n",
      "\n",
      "    accuracy                           0.89     13564\n",
      "   macro avg       0.72      0.61      0.64     13564\n",
      "weighted avg       0.86      0.89      0.87     13564\n",
      "\n",
      "------\n",
      "Area sob a curva AUC: 0.767\n"
     ]
    },
    {
     "data": {
      "image/png": "[encoded data removed]",
      "text/plain": [
       "<Figure size 432x288 with 1 Axes>"
      ]
     },
     "metadata": {
      "needs_background": "light"
     },
     "output_type": "display_data"
    }
   ],
   "source": [
    "best_model_lgbm = LGBMClassifier(n_estimators=250, num_leaves=128, min_child_samples=51,\n",
    "                              subsample=0.91, colsample_bytree=0.97, learning_rate=0.02, \n",
    "                              random_state=12)\n",
    "    \n",
    "best_model_lgbm.fit(X_train_3, y_train_3)\n",
    "y1_predicted = best_model_lgbm.predict(X_test_encoded)\n",
    "y1_predicted_prob = best_model_lgbm.predict_proba(X_test_encoded)[:, 1]\n",
    "fpr, tpr, threshold = roc_curve(y_test.values, y1_predicted_prob)\n",
    "roc_auc = roc_auc_score(y_test, y1_predicted_prob)\n",
    "\n",
    "print(classification_report(y_test, y1_predicted, target_names=['no','yes']))\n",
    "print('------')\n",
    "print('Area sob a curva AUC: {:.03f}'.format(roc_auc))\n",
    "\n",
    "plt.plot(fpr, tpr, lw=1)\n",
    "#plot_roc_curve(best_model_s, X1_test_encoded, y1_test)\n",
    "plt.plot([0,1],[0,1], '--', color=(0.6,0.6,0.6), label=\"sorte\")\n",
    "plt.title(\"Curva ROC\", fontsize=12)\n",
    "\n",
    "plt.show()"
   ]
  },
  {
   "cell_type": "code",
   "execution_count": 34,
   "metadata": {},
   "outputs": [
    {
     "data": {
      "text/plain": [
       "array([[11616,   361],\n",
       "       [ 1180,   407]], dtype=int64)"
      ]
     },
     "execution_count": 34,
     "metadata": {},
     "output_type": "execute_result"
    }
   ],
   "source": [
    "cnf_matrix = confusion_matrix(y_test, y1_predicted)\n",
    "cnf_matrix"
   ]
  },
  {
   "cell_type": "code",
   "execution_count": null,
   "metadata": {},
   "outputs": [],
   "source": []
  }
 ],
 "metadata": {
  "kernelspec": {
   "display_name": "Python 3",
   "language": "python",
   "name": "python3"
  },
  "language_info": {
   "codemirror_mode": {
    "name": "ipython",
    "version": 3
   },
   "file_extension": ".py",
   "mimetype": "text/x-python",
   "name": "python",
   "nbconvert_exporter": "python",
   "pygments_lexer": "ipython3",
   "version": "3.7.4"
  }
 },
 "nbformat": 4,
 "nbformat_minor": 2
}
