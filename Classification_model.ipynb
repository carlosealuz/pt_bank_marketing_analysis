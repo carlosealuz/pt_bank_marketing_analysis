{
 "cells": [
  {
   "cell_type": "markdown",
   "metadata": {},
   "source": [
    "# Overview\n",
    "\n",
    "On the \"portuguese_subscribed_clients\" notebook I made some EDA to understand the dataset a bit and get some information to help bank's marketing team to improve their campaign.\n",
    "\n",
    "In this notebook, I will create a solution to predict if a client will subscribe a term deposit or not. Since marketing is an area that usually spend a lot of money to increase sales, subscriptions, etc., this algorithm can substantially improve this bank financial spending to bring more people as a term subscriber.\n",
    "\n",
    "So, let's do this!"
   ]
  },
  {
   "cell_type": "code",
   "execution_count": 1,
   "metadata": {},
   "outputs": [],
   "source": [
    "#importing libraries\n",
    "import pandas as pd\n",
    "import numpy as np\n",
    "import calendar"
   ]
  },
  {
   "cell_type": "code",
   "execution_count": 2,
   "metadata": {},
   "outputs": [
    {
     "data": {
      "text/html": [
       "<div>\n",
       "<style scoped>\n",
       "    .dataframe tbody tr th:only-of-type {\n",
       "        vertical-align: middle;\n",
       "    }\n",
       "\n",
       "    .dataframe tbody tr th {\n",
       "        vertical-align: top;\n",
       "    }\n",
       "\n",
       "    .dataframe thead th {\n",
       "        text-align: right;\n",
       "    }\n",
       "</style>\n",
       "<table border=\"1\" class=\"dataframe\">\n",
       "  <thead>\n",
       "    <tr style=\"text-align: right;\">\n",
       "      <th></th>\n",
       "      <th>age</th>\n",
       "      <th>job</th>\n",
       "      <th>marital</th>\n",
       "      <th>education</th>\n",
       "      <th>default</th>\n",
       "      <th>balance</th>\n",
       "      <th>housing</th>\n",
       "      <th>loan</th>\n",
       "      <th>contact</th>\n",
       "      <th>day</th>\n",
       "      <th>month</th>\n",
       "      <th>duration</th>\n",
       "      <th>campaign</th>\n",
       "      <th>pdays</th>\n",
       "      <th>previous</th>\n",
       "      <th>poutcome</th>\n",
       "      <th>y</th>\n",
       "    </tr>\n",
       "  </thead>\n",
       "  <tbody>\n",
       "    <tr>\n",
       "      <th>0</th>\n",
       "      <td>58</td>\n",
       "      <td>management</td>\n",
       "      <td>married</td>\n",
       "      <td>tertiary</td>\n",
       "      <td>no</td>\n",
       "      <td>2143</td>\n",
       "      <td>yes</td>\n",
       "      <td>no</td>\n",
       "      <td>unknown</td>\n",
       "      <td>5</td>\n",
       "      <td>may</td>\n",
       "      <td>261</td>\n",
       "      <td>1</td>\n",
       "      <td>-1</td>\n",
       "      <td>0</td>\n",
       "      <td>unknown</td>\n",
       "      <td>no</td>\n",
       "    </tr>\n",
       "    <tr>\n",
       "      <th>1</th>\n",
       "      <td>44</td>\n",
       "      <td>technician</td>\n",
       "      <td>single</td>\n",
       "      <td>secondary</td>\n",
       "      <td>no</td>\n",
       "      <td>29</td>\n",
       "      <td>yes</td>\n",
       "      <td>no</td>\n",
       "      <td>unknown</td>\n",
       "      <td>5</td>\n",
       "      <td>may</td>\n",
       "      <td>151</td>\n",
       "      <td>1</td>\n",
       "      <td>-1</td>\n",
       "      <td>0</td>\n",
       "      <td>unknown</td>\n",
       "      <td>no</td>\n",
       "    </tr>\n",
       "    <tr>\n",
       "      <th>2</th>\n",
       "      <td>33</td>\n",
       "      <td>entrepreneur</td>\n",
       "      <td>married</td>\n",
       "      <td>secondary</td>\n",
       "      <td>no</td>\n",
       "      <td>2</td>\n",
       "      <td>yes</td>\n",
       "      <td>yes</td>\n",
       "      <td>unknown</td>\n",
       "      <td>5</td>\n",
       "      <td>may</td>\n",
       "      <td>76</td>\n",
       "      <td>1</td>\n",
       "      <td>-1</td>\n",
       "      <td>0</td>\n",
       "      <td>unknown</td>\n",
       "      <td>no</td>\n",
       "    </tr>\n",
       "    <tr>\n",
       "      <th>3</th>\n",
       "      <td>47</td>\n",
       "      <td>blue-collar</td>\n",
       "      <td>married</td>\n",
       "      <td>unknown</td>\n",
       "      <td>no</td>\n",
       "      <td>1506</td>\n",
       "      <td>yes</td>\n",
       "      <td>no</td>\n",
       "      <td>unknown</td>\n",
       "      <td>5</td>\n",
       "      <td>may</td>\n",
       "      <td>92</td>\n",
       "      <td>1</td>\n",
       "      <td>-1</td>\n",
       "      <td>0</td>\n",
       "      <td>unknown</td>\n",
       "      <td>no</td>\n",
       "    </tr>\n",
       "    <tr>\n",
       "      <th>4</th>\n",
       "      <td>33</td>\n",
       "      <td>unknown</td>\n",
       "      <td>single</td>\n",
       "      <td>unknown</td>\n",
       "      <td>no</td>\n",
       "      <td>1</td>\n",
       "      <td>no</td>\n",
       "      <td>no</td>\n",
       "      <td>unknown</td>\n",
       "      <td>5</td>\n",
       "      <td>may</td>\n",
       "      <td>198</td>\n",
       "      <td>1</td>\n",
       "      <td>-1</td>\n",
       "      <td>0</td>\n",
       "      <td>unknown</td>\n",
       "      <td>no</td>\n",
       "    </tr>\n",
       "  </tbody>\n",
       "</table>\n",
       "</div>"
      ],
      "text/plain": [
       "   age           job  marital  education default  balance housing loan  \\\n",
       "0   58    management  married   tertiary      no     2143     yes   no   \n",
       "1   44    technician   single  secondary      no       29     yes   no   \n",
       "2   33  entrepreneur  married  secondary      no        2     yes  yes   \n",
       "3   47   blue-collar  married    unknown      no     1506     yes   no   \n",
       "4   33       unknown   single    unknown      no        1      no   no   \n",
       "\n",
       "   contact  day month  duration  campaign  pdays  previous poutcome   y  \n",
       "0  unknown    5   may       261         1     -1         0  unknown  no  \n",
       "1  unknown    5   may       151         1     -1         0  unknown  no  \n",
       "2  unknown    5   may        76         1     -1         0  unknown  no  \n",
       "3  unknown    5   may        92         1     -1         0  unknown  no  \n",
       "4  unknown    5   may       198         1     -1         0  unknown  no  "
      ]
     },
     "execution_count": 2,
     "metadata": {},
     "output_type": "execute_result"
    }
   ],
   "source": [
    "df = pd.read_csv('dataset/bank-full.csv', sep=';')\n",
    "df.head()"
   ]
  },
  {
   "cell_type": "markdown",
   "metadata": {},
   "source": [
    "On the EDA notebook I mentioned that\n",
    "\"If we interpret contact unknown as a missing data, 29% of this column will be missing. This data is from 2008 and 2010 and at that time, Portugal population was around 10,5 million with around [13 million mobile phone subscribers](https://www.theglobaleconomy.com/Portugal/Mobile_phone_subscribers/) (some users might had more than one line?). So, I will change \"unknown\" for cellular here.\"\n",
    "\n",
    "I will also transform 'pdays' in a categorical column and 'month' to values"
   ]
  },
  {
   "cell_type": "code",
   "execution_count": 3,
   "metadata": {},
   "outputs": [],
   "source": [
    "#mapping unknown values to cellular\n",
    "df['contact'] = df.contact.apply(lambda x: 'cellular' if x=='unknown' else x)\n",
    "\n",
    "# creating new column to transform pdays in categories\n",
    "df['campaign_contact'] = df.pdays.apply(lambda x: 'never_contacted' if x<0 else 'already_contacted')\n",
    "\n",
    "#month to number\n",
    "abbr_to_num = {name.lower(): num for num, name in enumerate(calendar.month_abbr) if num}\n",
    "df['month'] = df['month'].apply(lambda x: abbr_to_num[x])"
   ]
  },
  {
   "cell_type": "markdown",
   "metadata": {},
   "source": [
    "converting output data to numeric"
   ]
  },
  {
   "cell_type": "code",
   "execution_count": 4,
   "metadata": {},
   "outputs": [],
   "source": [
    "df['y'] = df['y'].map({'no':0,\n",
    "                       'yes':1})"
   ]
  },
  {
   "cell_type": "markdown",
   "metadata": {},
   "source": [
    "And the column poutcome have 82% of \"missing data\" (unknown) I will drop it and will not use on the model."
   ]
  },
  {
   "cell_type": "code",
   "execution_count": 5,
   "metadata": {},
   "outputs": [],
   "source": [
    "df.drop(['poutcome', 'pdays'], axis=1, inplace=True)"
   ]
  },
  {
   "cell_type": "code",
   "execution_count": 6,
   "metadata": {},
   "outputs": [
    {
     "data": {
      "text/html": [
       "<div>\n",
       "<style scoped>\n",
       "    .dataframe tbody tr th:only-of-type {\n",
       "        vertical-align: middle;\n",
       "    }\n",
       "\n",
       "    .dataframe tbody tr th {\n",
       "        vertical-align: top;\n",
       "    }\n",
       "\n",
       "    .dataframe thead th {\n",
       "        text-align: right;\n",
       "    }\n",
       "</style>\n",
       "<table border=\"1\" class=\"dataframe\">\n",
       "  <thead>\n",
       "    <tr style=\"text-align: right;\">\n",
       "      <th></th>\n",
       "      <th>age</th>\n",
       "      <th>balance</th>\n",
       "      <th>day</th>\n",
       "      <th>month</th>\n",
       "      <th>duration</th>\n",
       "      <th>campaign</th>\n",
       "      <th>previous</th>\n",
       "      <th>y</th>\n",
       "    </tr>\n",
       "  </thead>\n",
       "  <tbody>\n",
       "    <tr>\n",
       "      <th>count</th>\n",
       "      <td>45211.000000</td>\n",
       "      <td>45211.000000</td>\n",
       "      <td>45211.000000</td>\n",
       "      <td>45211.000000</td>\n",
       "      <td>45211.000000</td>\n",
       "      <td>45211.000000</td>\n",
       "      <td>45211.000000</td>\n",
       "      <td>45211.000000</td>\n",
       "    </tr>\n",
       "    <tr>\n",
       "      <th>mean</th>\n",
       "      <td>40.936210</td>\n",
       "      <td>1362.272058</td>\n",
       "      <td>15.806419</td>\n",
       "      <td>6.144655</td>\n",
       "      <td>258.163080</td>\n",
       "      <td>2.763841</td>\n",
       "      <td>0.580323</td>\n",
       "      <td>0.116985</td>\n",
       "    </tr>\n",
       "    <tr>\n",
       "      <th>std</th>\n",
       "      <td>10.618762</td>\n",
       "      <td>3044.765829</td>\n",
       "      <td>8.322476</td>\n",
       "      <td>2.408034</td>\n",
       "      <td>257.527812</td>\n",
       "      <td>3.098021</td>\n",
       "      <td>2.303441</td>\n",
       "      <td>0.321406</td>\n",
       "    </tr>\n",
       "    <tr>\n",
       "      <th>min</th>\n",
       "      <td>18.000000</td>\n",
       "      <td>-8019.000000</td>\n",
       "      <td>1.000000</td>\n",
       "      <td>1.000000</td>\n",
       "      <td>0.000000</td>\n",
       "      <td>1.000000</td>\n",
       "      <td>0.000000</td>\n",
       "      <td>0.000000</td>\n",
       "    </tr>\n",
       "    <tr>\n",
       "      <th>25%</th>\n",
       "      <td>33.000000</td>\n",
       "      <td>72.000000</td>\n",
       "      <td>8.000000</td>\n",
       "      <td>5.000000</td>\n",
       "      <td>103.000000</td>\n",
       "      <td>1.000000</td>\n",
       "      <td>0.000000</td>\n",
       "      <td>0.000000</td>\n",
       "    </tr>\n",
       "    <tr>\n",
       "      <th>50%</th>\n",
       "      <td>39.000000</td>\n",
       "      <td>448.000000</td>\n",
       "      <td>16.000000</td>\n",
       "      <td>6.000000</td>\n",
       "      <td>180.000000</td>\n",
       "      <td>2.000000</td>\n",
       "      <td>0.000000</td>\n",
       "      <td>0.000000</td>\n",
       "    </tr>\n",
       "    <tr>\n",
       "      <th>75%</th>\n",
       "      <td>48.000000</td>\n",
       "      <td>1428.000000</td>\n",
       "      <td>21.000000</td>\n",
       "      <td>8.000000</td>\n",
       "      <td>319.000000</td>\n",
       "      <td>3.000000</td>\n",
       "      <td>0.000000</td>\n",
       "      <td>0.000000</td>\n",
       "    </tr>\n",
       "    <tr>\n",
       "      <th>max</th>\n",
       "      <td>95.000000</td>\n",
       "      <td>102127.000000</td>\n",
       "      <td>31.000000</td>\n",
       "      <td>12.000000</td>\n",
       "      <td>4918.000000</td>\n",
       "      <td>63.000000</td>\n",
       "      <td>275.000000</td>\n",
       "      <td>1.000000</td>\n",
       "    </tr>\n",
       "  </tbody>\n",
       "</table>\n",
       "</div>"
      ],
      "text/plain": [
       "                age        balance           day         month      duration  \\\n",
       "count  45211.000000   45211.000000  45211.000000  45211.000000  45211.000000   \n",
       "mean      40.936210    1362.272058     15.806419      6.144655    258.163080   \n",
       "std       10.618762    3044.765829      8.322476      2.408034    257.527812   \n",
       "min       18.000000   -8019.000000      1.000000      1.000000      0.000000   \n",
       "25%       33.000000      72.000000      8.000000      5.000000    103.000000   \n",
       "50%       39.000000     448.000000     16.000000      6.000000    180.000000   \n",
       "75%       48.000000    1428.000000     21.000000      8.000000    319.000000   \n",
       "max       95.000000  102127.000000     31.000000     12.000000   4918.000000   \n",
       "\n",
       "           campaign      previous             y  \n",
       "count  45211.000000  45211.000000  45211.000000  \n",
       "mean       2.763841      0.580323      0.116985  \n",
       "std        3.098021      2.303441      0.321406  \n",
       "min        1.000000      0.000000      0.000000  \n",
       "25%        1.000000      0.000000      0.000000  \n",
       "50%        2.000000      0.000000      0.000000  \n",
       "75%        3.000000      0.000000      0.000000  \n",
       "max       63.000000    275.000000      1.000000  "
      ]
     },
     "execution_count": 6,
     "metadata": {},
     "output_type": "execute_result"
    }
   ],
   "source": [
    "df.describe()"
   ]
  },
  {
   "cell_type": "code",
   "execution_count": 7,
   "metadata": {},
   "outputs": [
    {
     "data": {
      "text/plain": [
       "age                  int64\n",
       "job                 object\n",
       "marital             object\n",
       "education           object\n",
       "default             object\n",
       "balance              int64\n",
       "housing             object\n",
       "loan                object\n",
       "contact             object\n",
       "day                  int64\n",
       "month                int64\n",
       "duration             int64\n",
       "campaign             int64\n",
       "previous             int64\n",
       "y                    int64\n",
       "campaign_contact    object\n",
       "dtype: object"
      ]
     },
     "execution_count": 7,
     "metadata": {},
     "output_type": "execute_result"
    }
   ],
   "source": [
    "df.dtypes"
   ]
  },
  {
   "cell_type": "markdown",
   "metadata": {},
   "source": [
    "Taking a look at cardinality for categorical columns"
   ]
  },
  {
   "cell_type": "code",
   "execution_count": 8,
   "metadata": {},
   "outputs": [
    {
     "name": "stdout",
     "output_type": "stream",
     "text": [
      "Column job have 12 unique values\n",
      "Column marital have 3 unique values\n",
      "Column education have 4 unique values\n",
      "Column default have 2 unique values\n",
      "Column housing have 2 unique values\n",
      "Column loan have 2 unique values\n",
      "Column contact have 2 unique values\n",
      "Column campaign_contact have 2 unique values\n"
     ]
    }
   ],
   "source": [
    "object_columns = df.loc[:, df.dtypes == object].columns\n",
    "for column in object_columns:\n",
    "    unique_data = df[column].unique().tolist()\n",
    "    print(f'Column {column} have {len(unique_data)} unique values')"
   ]
  },
  {
   "cell_type": "code",
   "execution_count": 9,
   "metadata": {},
   "outputs": [
    {
     "name": "stdout",
     "output_type": "stream",
     "text": [
      "X_train size:  (31647, 15)\n",
      "X_train size:  (31647,)\n",
      "X_train size:  (13564, 15)\n",
      "X_train size:  (13564,)\n"
     ]
    }
   ],
   "source": [
    "# split train test data\n",
    "from sklearn.model_selection import train_test_split\n",
    "\n",
    "X = df.drop('y', axis=1)\n",
    "y = df['y']\n",
    "\n",
    "X_train, X_test, y_train, y_test = train_test_split(X, y, test_size=.3, random_state=12, stratify=y)\n",
    "print(\"X_train size: \", X_train.shape)\n",
    "print(\"X_train size: \", y_train.shape)\n",
    "print(\"X_train size: \", X_test.shape)\n",
    "print(\"X_train size: \", y_test.shape)\n"
   ]
  },
  {
   "cell_type": "markdown",
   "metadata": {},
   "source": [
    "Since all columns have low cardinality (unique values), I will encode all columns and train a model with every data available"
   ]
  },
  {
   "cell_type": "code",
   "execution_count": 10,
   "metadata": {},
   "outputs": [],
   "source": [
    "from sklearn.preprocessing import OneHotEncoder\n",
    "\n",
    "encoder = OneHotEncoder(handle_unknown='ignore')\n",
    "X_train_encoded = encoder.fit_transform(X_train)\n",
    "X_test_encoded = encoder.transform(X_test)"
   ]
  },
  {
   "cell_type": "markdown",
   "metadata": {},
   "source": [
    "# Modelo 1 - RandomForest with default hiperparameters\n",
    "\n",
    "* accuracy = 0.88\n",
    "* AUC = 0.523\n",
    "* Confusion matrix [[11936, 54\n",
    "\n",
    "                   1493, 81]]"
   ]
  },
  {
   "cell_type": "code",
   "execution_count": 11,
   "metadata": {},
   "outputs": [
    {
     "data": {
      "text/plain": [
       "RandomForestClassifier(random_state=12)"
      ]
     },
     "execution_count": 11,
     "metadata": {},
     "output_type": "execute_result"
    }
   ],
   "source": [
    "from sklearn.ensemble import RandomForestClassifier\n",
    "model = RandomForestClassifier(random_state=12)\n",
    "model.fit(X_train_encoded, y_train)"
   ]
  },
  {
   "cell_type": "code",
   "execution_count": 20,
   "metadata": {},
   "outputs": [
    {
     "name": "stdout",
     "output_type": "stream",
     "text": [
      "              precision    recall  f1-score   support\n",
      "\n",
      "          no       0.89      1.00      0.94     11977\n",
      "         yes       0.53      0.04      0.07      1587\n",
      "\n",
      "    accuracy                           0.88     13564\n",
      "   macro avg       0.71      0.52      0.51     13564\n",
      "weighted avg       0.84      0.88      0.84     13564\n",
      "\n",
      "------\n",
      "Area sob a curva AUC: 0.517\n"
     ]
    },
    {
     "data": {
      "image/png": "[encoded data removed]",
      "text/plain": [
       "<Figure size 432x288 with 1 Axes>"
      ]
     },
     "metadata": {
      "needs_background": "light"
     },
     "output_type": "display_data"
    }
   ],
   "source": [
    "from sklearn.metrics import classification_report, roc_auc_score, roc_curve, plot_roc_curve\n",
    "from sklearn.metrics import f1_score\n",
    "import matplotlib.pyplot as plt\n",
    "\n",
    "y_predicted = model.predict(X_test_encoded)\n",
    "y_predicted_prob = model.predict_proba(X_test_encoded)[:,1]\n",
    "fpr, tpr, threshold = roc_curve(y_test.values, y_predicted_prob)\n",
    "roc_auc = roc_auc_score(y_test, y_predicted)\n",
    "\n",
    "print(classification_report(y_test, y_predicted, target_names=['no','yes']))\n",
    "print('------')\n",
    "print('Area sob a curva AUC: {:.03f}'.format(roc_auc))\n",
    "\n",
    "plt.plot(fpr, tpr, lw=1)\n",
    "#plot_roc_curve(model, X_test_encoded, y_test)\n",
    "plt.plot([0,1],[0,1], '--', color=(0.6, 0.6, 0.6), label=\"sorte\")\n",
    "plt.title(\"Curva ROC\", fontsize=12) \n",
    "\n",
    "plt.show()\n"
   ]
  },
  {
   "cell_type": "code",
   "execution_count": 21,
   "metadata": {},
   "outputs": [
    {
     "data": {
      "text/plain": [
       "array([[11921,    56],\n",
       "       [ 1525,    62]], dtype=int64)"
      ]
     },
     "execution_count": 21,
     "metadata": {},
     "output_type": "execute_result"
    }
   ],
   "source": [
    "from sklearn.metrics import confusion_matrix\n",
    "cnf_matrix = confusion_matrix(y_test, y_predicted)\n",
    "cnf_matrix"
   ]
  },
  {
   "cell_type": "markdown",
   "metadata": {},
   "source": [
    "# Model 2 - Hyperparameters optimize with skopt\n",
    "\n",
    "* accuracy = 0.88\n",
    "* AUC = 0.824\n",
    "* Confusion matrix [[11947,    30\n",
    "\n",
    "                   1543,44]]\n",
    "                   \n",
    "                   \n",
    "After optimize hyperparameters our model improve on no subscribers but was worse on term deposits."
   ]
  },
  {
   "cell_type": "code",
   "execution_count": 22,
   "metadata": {},
   "outputs": [],
   "source": [
    "from skopt import gp_minimize\n",
    "\n",
    "def train_model(params):\n",
    "    n_estimators = params[0]\n",
    "    criterion = params[1]\n",
    "    max_depth = params[2]\n",
    "    min_samples_leaf = params[3]\n",
    "    min_samples_split = params[4]\n",
    "    \n",
    "    model = RandomForestClassifier(n_estimators=n_estimators, criterion=criterion, min_samples_split=min_samples_split,\n",
    "                                   max_depth=max_depth, min_samples_leaf=min_samples_leaf, random_state=12)\n",
    "    \n",
    "    model.fit(X_train_encoded, y_train)\n",
    "    Y_predicted = model.predict_proba(X_test_encoded)[:, 1]\n",
    "    \n",
    "    return - roc_auc_score(y_test, Y_predicted)"
   ]
  },
  {
   "cell_type": "code",
   "execution_count": 23,
   "metadata": {},
   "outputs": [],
   "source": [
    "space = [[100, 150, 200, 250, 300, 350, 400, 450, 500],\n",
    "         ['gini', 'entropy'], \n",
    "         [10, 20, 30, 40, 50, 60, 70, 80, 90, 100, None],\n",
    "         [1, 2, 4],\n",
    "         [2, 5, 10]]\n"
   ]
  },
  {
   "cell_type": "code",
   "execution_count": 24,
   "metadata": {},
   "outputs": [
    {
     "name": "stdout",
     "output_type": "stream",
     "text": [
      "Iteration No: 1 started. Evaluating function at random point.\n",
      "Iteration No: 1 ended. Evaluation done at random point.\n",
      "Time taken: 6.7577\n",
      "Function value obtained: -0.7755\n",
      "Current minimum: -0.7755\n",
      "Iteration No: 2 started. Evaluating function at random point.\n",
      "Iteration No: 2 ended. Evaluation done at random point.\n",
      "Time taken: 2.2526\n",
      "Function value obtained: -0.7726\n",
      "Current minimum: -0.7755\n",
      "Iteration No: 3 started. Evaluating function at random point.\n",
      "Iteration No: 3 ended. Evaluation done at random point.\n",
      "Time taken: 13.8536\n",
      "Function value obtained: -0.7768\n",
      "Current minimum: -0.7768\n",
      "Iteration No: 4 started. Evaluating function at random point.\n",
      "Iteration No: 4 ended. Evaluation done at random point.\n",
      "Time taken: 6.4186\n",
      "Function value obtained: -0.7759\n",
      "Current minimum: -0.7768\n",
      "Iteration No: 5 started. Evaluating function at random point.\n",
      "Iteration No: 5 ended. Evaluation done at random point.\n",
      "Time taken: 61.8454\n",
      "Function value obtained: -0.8233\n",
      "Current minimum: -0.8233\n",
      "Iteration No: 6 started. Evaluating function at random point.\n",
      "Iteration No: 6 ended. Evaluation done at random point.\n",
      "Time taken: 61.5571\n",
      "Function value obtained: -0.8125\n",
      "Current minimum: -0.8233\n",
      "Iteration No: 7 started. Evaluating function at random point.\n",
      "Iteration No: 7 ended. Evaluation done at random point.\n",
      "Time taken: 1.9750\n",
      "Function value obtained: -0.7596\n",
      "Current minimum: -0.8233\n",
      "Iteration No: 8 started. Evaluating function at random point.\n",
      "Iteration No: 8 ended. Evaluation done at random point.\n",
      "Time taken: 8.8341\n",
      "Function value obtained: -0.7904\n",
      "Current minimum: -0.8233\n",
      "Iteration No: 9 started. Evaluating function at random point.\n",
      "Iteration No: 9 ended. Evaluation done at random point.\n",
      "Time taken: 16.8934\n",
      "Function value obtained: -0.7880\n",
      "Current minimum: -0.8233\n",
      "Iteration No: 10 started. Evaluating function at random point.\n",
      "Iteration No: 10 ended. Evaluation done at random point.\n",
      "Time taken: 35.3591\n",
      "Function value obtained: -0.7950\n",
      "Current minimum: -0.8233\n",
      "Iteration No: 11 started. Searching for the next optimal point.\n",
      "Iteration No: 11 ended. Search finished for the next optimal point.\n",
      "Time taken: 38.8753\n",
      "Function value obtained: -0.8047\n",
      "Current minimum: -0.8233\n",
      "Iteration No: 12 started. Searching for the next optimal point.\n",
      "Iteration No: 12 ended. Search finished for the next optimal point.\n",
      "Time taken: 29.3114\n",
      "Function value obtained: -0.7959\n",
      "Current minimum: -0.8233\n",
      "Iteration No: 13 started. Searching for the next optimal point.\n",
      "Iteration No: 13 ended. Search finished for the next optimal point.\n",
      "Time taken: 6.8310\n",
      "Function value obtained: -0.7908\n",
      "Current minimum: -0.8233\n",
      "Iteration No: 14 started. Searching for the next optimal point.\n",
      "Iteration No: 14 ended. Search finished for the next optimal point.\n",
      "Time taken: 17.6020\n",
      "Function value obtained: -0.7829\n",
      "Current minimum: -0.8233\n",
      "Iteration No: 15 started. Searching for the next optimal point.\n",
      "Iteration No: 15 ended. Search finished for the next optimal point.\n",
      "Time taken: 11.5096\n",
      "Function value obtained: -0.7824\n",
      "Current minimum: -0.8233\n",
      "Iteration No: 16 started. Searching for the next optimal point.\n",
      "Iteration No: 16 ended. Search finished for the next optimal point.\n",
      "Time taken: 55.7103\n",
      "Function value obtained: -0.8164\n",
      "Current minimum: -0.8233\n",
      "Iteration No: 17 started. Searching for the next optimal point.\n",
      "Iteration No: 17 ended. Search finished for the next optimal point.\n",
      "Time taken: 42.1553\n",
      "Function value obtained: -0.8152\n",
      "Current minimum: -0.8233\n",
      "Iteration No: 18 started. Searching for the next optimal point.\n",
      "Iteration No: 18 ended. Search finished for the next optimal point.\n",
      "Time taken: 16.5044\n",
      "Function value obtained: -0.7905\n",
      "Current minimum: -0.8233\n",
      "Iteration No: 19 started. Searching for the next optimal point.\n",
      "Iteration No: 19 ended. Search finished for the next optimal point.\n",
      "Time taken: 43.5219\n",
      "Function value obtained: -0.8165\n",
      "Current minimum: -0.8233\n",
      "Iteration No: 20 started. Searching for the next optimal point.\n",
      "Iteration No: 20 ended. Search finished for the next optimal point.\n",
      "Time taken: 12.1159\n",
      "Function value obtained: -0.7779\n",
      "Current minimum: -0.8233\n",
      "Iteration No: 21 started. Searching for the next optimal point.\n",
      "Iteration No: 21 ended. Search finished for the next optimal point.\n",
      "Time taken: 17.8669\n",
      "Function value obtained: -0.7883\n",
      "Current minimum: -0.8233\n",
      "Iteration No: 22 started. Searching for the next optimal point.\n",
      "Iteration No: 22 ended. Search finished for the next optimal point.\n",
      "Time taken: 2.4484\n",
      "Function value obtained: -0.7576\n",
      "Current minimum: -0.8233\n",
      "Iteration No: 23 started. Searching for the next optimal point.\n",
      "Iteration No: 23 ended. Search finished for the next optimal point.\n",
      "Time taken: 4.5588\n",
      "Function value obtained: -0.7778\n",
      "Current minimum: -0.8233\n",
      "Iteration No: 24 started. Searching for the next optimal point.\n",
      "Iteration No: 24 ended. Search finished for the next optimal point.\n",
      "Time taken: 20.7158\n",
      "Function value obtained: -0.8020\n",
      "Current minimum: -0.8233\n",
      "Iteration No: 25 started. Searching for the next optimal point.\n",
      "Iteration No: 25 ended. Search finished for the next optimal point.\n",
      "Time taken: 25.8955\n",
      "Function value obtained: -0.8212\n",
      "Current minimum: -0.8233\n",
      "Iteration No: 26 started. Searching for the next optimal point.\n",
      "Iteration No: 26 ended. Search finished for the next optimal point.\n",
      "Time taken: 108.0237\n",
      "Function value obtained: -0.8236\n",
      "Current minimum: -0.8236\n",
      "Iteration No: 27 started. Searching for the next optimal point.\n",
      "Iteration No: 27 ended. Search finished for the next optimal point.\n",
      "Time taken: 11.1310\n",
      "Function value obtained: -0.7765\n",
      "Current minimum: -0.8236\n",
      "Iteration No: 28 started. Searching for the next optimal point.\n",
      "Iteration No: 28 ended. Search finished for the next optimal point.\n",
      "Time taken: 14.1926\n",
      "Function value obtained: -0.7913\n",
      "Current minimum: -0.8236\n",
      "Iteration No: 29 started. Searching for the next optimal point.\n",
      "Iteration No: 29 ended. Search finished for the next optimal point.\n",
      "Time taken: 17.0072\n",
      "Function value obtained: -0.7798\n",
      "Current minimum: -0.8236\n",
      "Iteration No: 30 started. Searching for the next optimal point.\n",
      "Iteration No: 30 ended. Search finished for the next optimal point.\n",
      "Time taken: 119.2553\n",
      "Function value obtained: -0.8236\n",
      "Current minimum: -0.8236\n"
     ]
    }
   ],
   "source": [
    "results = gp_minimize(train_model, space, random_state=12, verbose=1, n_calls=30, n_random_starts=10)"
   ]
  },
  {
   "cell_type": "code",
   "execution_count": 25,
   "metadata": {},
   "outputs": [
    {
     "data": {
      "text/plain": [
       "[450, 'gini', 100, 1, 2]"
      ]
     },
     "execution_count": 25,
     "metadata": {},
     "output_type": "execute_result"
    }
   ],
   "source": [
    "results.x"
   ]
  },
  {
   "cell_type": "code",
   "execution_count": 26,
   "metadata": {},
   "outputs": [
    {
     "name": "stdout",
     "output_type": "stream",
     "text": [
      "              precision    recall  f1-score   support\n",
      "\n",
      "          no       0.89      1.00      0.94     11977\n",
      "         yes       0.59      0.03      0.05      1587\n",
      "\n",
      "    accuracy                           0.88     13564\n",
      "   macro avg       0.74      0.51      0.50     13564\n",
      "weighted avg       0.85      0.88      0.83     13564\n",
      "\n",
      "------\n",
      "Area sob a curva AUC: 0.824\n"
     ]
    },
    {
     "data": {
      "image/png": "[encoded data removed]",
      "text/plain": [
       "<Figure size 432x288 with 1 Axes>"
      ]
     },
     "metadata": {
      "needs_background": "light"
     },
     "output_type": "display_data"
    }
   ],
   "source": [
    "best_model = RandomForestClassifier(n_estimators=450, criterion='gini', max_depth=100,\n",
    "                                    min_samples_leaf=1, min_samples_split=2, random_state=12)\n",
    "    \n",
    "best_model.fit(X_train_encoded, y_train)\n",
    "y_predicted = best_model.predict(X_test_encoded)\n",
    "y_predicted_prob = best_model.predict_proba(X_test_encoded)[:, 1]\n",
    "fpr, tpr, threshold = roc_curve(y_test.values, y_predicted_prob)\n",
    "roc_auc = roc_auc_score(y_test, y_predicted_prob)\n",
    "\n",
    "print(classification_report(y_test, y_predicted, target_names=['no','yes']))\n",
    "print('------')\n",
    "print('Area sob a curva AUC: {:.03f}'.format(roc_auc))\n",
    "\n",
    "plt.plot(fpr, tpr, lw=1)\n",
    "#plot_roc_curve(best_model, X_test_encoded, y_test)\n",
    "plt.plot([0,1],[0,1], '--', color=(0.6,0.6,0.6), label=\"sorte\")\n",
    "plt.title(\"Curva ROC\", fontsize=12)\n",
    "\n",
    "plt.show()\n"
   ]
  },
  {
   "cell_type": "code",
   "execution_count": 27,
   "metadata": {},
   "outputs": [
    {
     "data": {
      "text/plain": [
       "array([[11947,    30],\n",
       "       [ 1543,    44]], dtype=int64)"
      ]
     },
     "execution_count": 27,
     "metadata": {},
     "output_type": "execute_result"
    }
   ],
   "source": [
    "cnf_matrix = confusion_matrix(y_test, y_predicted)\n",
    "cnf_matrix"
   ]
  },
  {
   "cell_type": "code",
   "execution_count": null,
   "metadata": {},
   "outputs": [],
   "source": []
  },
  {
   "cell_type": "markdown",
   "metadata": {},
   "source": [
    "# Test Upsample\n"
   ]
  },
  {
   "cell_type": "markdown",
   "metadata": {},
   "source": [
    "Using upsample we could boost recall for positive class but with a small decrease on the negative class. Also, this increased false negatives a bit but improve true positives considerable."
   ]
  },
  {
   "cell_type": "code",
   "execution_count": 29,
   "metadata": {},
   "outputs": [],
   "source": [
    "from imblearn.over_sampling import SMOTE\n",
    "smote = SMOTE(random_state = 14)\n",
    "X_train_3, y_train_3 = smote.fit_sample(X_train_encoded, y_train)"
   ]
  },
  {
   "cell_type": "code",
   "execution_count": 36,
   "metadata": {},
   "outputs": [
    {
     "name": "stdout",
     "output_type": "stream",
     "text": [
      "              precision    recall  f1-score   support\n",
      "\n",
      "          no       0.90      0.98      0.94     11977\n",
      "         yes       0.57      0.17      0.26      1587\n",
      "\n",
      "    accuracy                           0.89     13564\n",
      "   macro avg       0.73      0.58      0.60     13564\n",
      "weighted avg       0.86      0.89      0.86     13564\n",
      "\n",
      "------\n",
      "Area sob a curva AUC: 0.788\n"
     ]
    },
    {
     "data": {
      "image/png": "[encoded data removed]",
      "text/plain": [
       "<Figure size 432x288 with 1 Axes>"
      ]
     },
     "metadata": {
      "needs_background": "light"
     },
     "output_type": "display_data"
    }
   ],
   "source": [
    "best_model_s = RandomForestClassifier(n_estimators=450, criterion='gini', max_depth=100,\n",
    "                                      min_samples_leaf=1, min_samples_split=2, random_state=12)\n",
    "    \n",
    "best_model_s.fit(X_train_3, y_train_3)\n",
    "y1_predicted = best_model_s.predict(X_test_encoded)\n",
    "y1_predicted_prob = best_model_s.predict_proba(X_test_encoded)[:, 1]\n",
    "fpr, tpr, threshold = roc_curve(y_test.values, y1_predicted_prob)\n",
    "roc_auc = roc_auc_score(y_test, y1_predicted_prob)\n",
    "\n",
    "print(classification_report(y_test, y1_predicted, target_names=['no','yes']))\n",
    "print('------')\n",
    "print('Area sob a curva AUC: {:.03f}'.format(roc_auc))\n",
    "\n",
    "plt.plot(fpr, tpr, lw=1)\n",
    "#plot_roc_curve(best_model_s, X1_test_encoded, y1_test)\n",
    "plt.plot([0,1],[0,1], '--', color=(0.6,0.6,0.6), label=\"sorte\")\n",
    "plt.title(\"Curva ROC\", fontsize=12)\n",
    "\n",
    "plt.show()"
   ]
  },
  {
   "cell_type": "code",
   "execution_count": 37,
   "metadata": {},
   "outputs": [
    {
     "data": {
      "text/plain": [
       "array([[11775,   202],\n",
       "       [ 1320,   267]], dtype=int64)"
      ]
     },
     "execution_count": 37,
     "metadata": {},
     "output_type": "execute_result"
    }
   ],
   "source": [
    "cnf_matrix = confusion_matrix(y_test, y1_predicted)\n",
    "cnf_matrix"
   ]
  },
  {
   "cell_type": "code",
   "execution_count": null,
   "metadata": {},
   "outputs": [],
   "source": []
  },
  {
   "cell_type": "markdown",
   "metadata": {},
   "source": [
    "# Testing with LightGBM"
   ]
  },
  {
   "cell_type": "markdown",
   "metadata": {},
   "source": [
    "So far, this is our best model. With upsampling techniques the classification report show us increase in almost all metrics and an accuracy of 90% but, precision and f1 also show us improvement. So, this could be a model to put at production maybe in an app in heroku or any cloud this bank want to subscribe. \n",
    "\n",
    "Then, marketing team coulds create a csv with users information about:\n",
    "* job\n",
    "* gender\n",
    "* marital\n",
    "* default loan\n",
    "* housing loan\n",
    "* contact - should be cellular or telephone, i.e. device the user will be contacted\n",
    "* day - day number the contact will be done\n",
    "* month - month the contact will be done\n",
    "* duration - estimated amount of seconds the call will last\n",
    "* campaign - should be 0 if first contact with client\n",
    "* previous - number of contact the bank usually do with a client - if prospecting clients this should be zero\n",
    "\n",
    "This csv could be uploaded to the app on heroku and the app export a prediction if a client will do a deposit or not. This could improve further marketing campaigns by a lot, since the user will be targeted and will be qualified. Instead waste time calling everyone, the bank can choose users more likely to do a deposit."
   ]
  },
  {
   "cell_type": "code",
   "execution_count": 70,
   "metadata": {},
   "outputs": [
    {
     "name": "stdout",
     "output_type": "stream",
     "text": [
      "Iteration No: 1 started. Evaluating function at random point.\n",
      "Iteration No: 1 ended. Evaluation done at random point.\n",
      "Time taken: 7.6006\n",
      "Function value obtained: -0.8647\n",
      "Current minimum: -0.8647\n",
      "Iteration No: 2 started. Evaluating function at random point.\n",
      "Iteration No: 2 ended. Evaluation done at random point.\n",
      "Time taken: 0.7608\n",
      "Function value obtained: -0.7435\n",
      "Current minimum: -0.8647\n",
      "Iteration No: 3 started. Evaluating function at random point.\n",
      "Iteration No: 3 ended. Evaluation done at random point.\n",
      "Time taken: 1.1686\n",
      "Function value obtained: -0.7586\n",
      "Current minimum: -0.8647\n",
      "Iteration No: 4 started. Evaluating function at random point.\n",
      "Iteration No: 4 ended. Evaluation done at random point.\n",
      "Time taken: 0.9961\n",
      "Function value obtained: -0.7514\n",
      "Current minimum: -0.8647\n",
      "Iteration No: 5 started. Evaluating function at random point.\n",
      "Iteration No: 5 ended. Evaluation done at random point.\n",
      "Time taken: 0.2960\n",
      "Function value obtained: -0.7244\n",
      "Current minimum: -0.8647\n",
      "Iteration No: 6 started. Evaluating function at random point.\n",
      "Iteration No: 6 ended. Evaluation done at random point.\n",
      "Time taken: 0.8053\n",
      "Function value obtained: -0.7226\n",
      "Current minimum: -0.8647\n",
      "Iteration No: 7 started. Evaluating function at random point.\n",
      "Iteration No: 7 ended. Evaluation done at random point.\n",
      "Time taken: 0.4070\n",
      "Function value obtained: -0.7076\n",
      "Current minimum: -0.8647\n",
      "Iteration No: 8 started. Evaluating function at random point.\n",
      "Iteration No: 8 ended. Evaluation done at random point.\n",
      "Time taken: 0.9999\n",
      "Function value obtained: -0.7483\n",
      "Current minimum: -0.8647\n",
      "Iteration No: 9 started. Evaluating function at random point.\n",
      "Iteration No: 9 ended. Evaluation done at random point.\n",
      "Time taken: 0.6677\n",
      "Function value obtained: -0.7423\n",
      "Current minimum: -0.8647\n",
      "Iteration No: 10 started. Evaluating function at random point.\n",
      "Iteration No: 10 ended. Evaluation done at random point.\n",
      "Time taken: 0.2180\n",
      "Function value obtained: -0.6944\n",
      "Current minimum: -0.8647\n",
      "Iteration No: 11 started. Evaluating function at random point.\n",
      "Iteration No: 11 ended. Evaluation done at random point.\n",
      "Time taken: 1.6127\n",
      "Function value obtained: -0.7654\n",
      "Current minimum: -0.8647\n",
      "Iteration No: 12 started. Evaluating function at random point.\n",
      "Iteration No: 12 ended. Evaluation done at random point.\n",
      "Time taken: 0.7807\n",
      "Function value obtained: -0.7591\n",
      "Current minimum: -0.8647\n",
      "Iteration No: 13 started. Evaluating function at random point.\n",
      "Iteration No: 13 ended. Evaluation done at random point.\n",
      "Time taken: 2.1511\n",
      "Function value obtained: -0.7516\n",
      "Current minimum: -0.8647\n",
      "Iteration No: 14 started. Evaluating function at random point.\n",
      "Iteration No: 14 ended. Evaluation done at random point.\n",
      "Time taken: 0.4544\n",
      "Function value obtained: -0.7310\n",
      "Current minimum: -0.8647\n",
      "Iteration No: 15 started. Evaluating function at random point.\n",
      "Iteration No: 15 ended. Evaluation done at random point.\n",
      "Time taken: 1.7055\n",
      "Function value obtained: -0.7716\n",
      "Current minimum: -0.8647\n",
      "Iteration No: 16 started. Evaluating function at random point.\n",
      "Iteration No: 16 ended. Evaluation done at random point.\n",
      "Time taken: 4.8741\n",
      "Function value obtained: -0.7501\n",
      "Current minimum: -0.8647\n",
      "Iteration No: 17 started. Evaluating function at random point.\n",
      "Iteration No: 17 ended. Evaluation done at random point.\n",
      "Time taken: 0.7825\n",
      "Function value obtained: -0.7255\n",
      "Current minimum: -0.8647\n",
      "Iteration No: 18 started. Evaluating function at random point.\n",
      "Iteration No: 18 ended. Evaluation done at random point.\n",
      "Time taken: 0.2242\n",
      "Function value obtained: -0.6923\n",
      "Current minimum: -0.8647\n",
      "Iteration No: 19 started. Evaluating function at random point.\n",
      "Iteration No: 19 ended. Evaluation done at random point.\n",
      "Time taken: 0.7511\n",
      "Function value obtained: -0.7217\n",
      "Current minimum: -0.8647\n",
      "Iteration No: 20 started. Evaluating function at random point.\n",
      "Iteration No: 20 ended. Evaluation done at random point.\n",
      "Time taken: 0.6183\n",
      "Function value obtained: -0.7193\n",
      "Current minimum: -0.8647\n",
      "Iteration No: 21 started. Evaluating function at random point.\n",
      "Iteration No: 21 ended. Evaluation done at random point.\n",
      "Time taken: 1.2605\n",
      "Function value obtained: -0.7287\n",
      "Current minimum: -0.8647\n",
      "Iteration No: 22 started. Evaluating function at random point.\n",
      "Iteration No: 22 ended. Evaluation done at random point.\n",
      "Time taken: 0.7812\n",
      "Function value obtained: -0.7206\n",
      "Current minimum: -0.8647\n",
      "Iteration No: 23 started. Evaluating function at random point.\n",
      "Iteration No: 23 ended. Evaluation done at random point.\n",
      "Time taken: 0.4193\n",
      "Function value obtained: -0.7194\n",
      "Current minimum: -0.8647\n",
      "Iteration No: 24 started. Evaluating function at random point.\n",
      "Iteration No: 24 ended. Evaluation done at random point.\n",
      "Time taken: 0.8723\n",
      "Function value obtained: -0.7192\n",
      "Current minimum: -0.8647\n",
      "Iteration No: 25 started. Evaluating function at random point.\n",
      "Iteration No: 25 ended. Evaluation done at random point.\n",
      "Time taken: 2.6349\n",
      "Function value obtained: -0.7649\n",
      "Current minimum: -0.8647\n",
      "Iteration No: 26 started. Evaluating function at random point.\n",
      "Iteration No: 26 ended. Evaluation done at random point.\n",
      "Time taken: 0.5706\n",
      "Function value obtained: -0.7366\n",
      "Current minimum: -0.8647\n",
      "Iteration No: 27 started. Evaluating function at random point.\n",
      "Iteration No: 27 ended. Evaluation done at random point.\n",
      "Time taken: 0.4270\n",
      "Function value obtained: -0.7318\n",
      "Current minimum: -0.8647\n",
      "Iteration No: 28 started. Evaluating function at random point.\n",
      "Iteration No: 28 ended. Evaluation done at random point.\n",
      "Time taken: 2.8678\n",
      "Function value obtained: -0.8524\n",
      "Current minimum: -0.8647\n",
      "Iteration No: 29 started. Evaluating function at random point.\n",
      "Iteration No: 29 ended. Evaluation done at random point.\n",
      "Time taken: 0.2626\n",
      "Function value obtained: -0.7091\n",
      "Current minimum: -0.8647\n",
      "Iteration No: 30 started. Evaluating function at random point.\n",
      "Iteration No: 30 ended. Evaluation done at random point.\n",
      "Time taken: 2.2081\n",
      "Function value obtained: -0.7599\n",
      "Current minimum: -0.8647\n"
     ]
    }
   ],
   "source": [
    "from skopt import gp_minimize, dummy_minimize\n",
    "from lightgbm import LGBMClassifier\n",
    "\n",
    "def train_model_lgbm(params):\n",
    "    #n_estimators = params[0]\n",
    "    num_leaves = params[0]\n",
    "    min_child_samples = params[1]\n",
    "    subsample = params[2]\n",
    "    colsample_bytree = params[3]\n",
    "    learning_rate = params[4]\n",
    "    n_estimators = params[5]\n",
    "    \n",
    "    model = LGBMClassifier(n_estimators=n_estimators, num_leaves=num_leaves, min_child_samples=min_child_samples, subsample_freq=1,\n",
    "                           subsample=subsample, colsample_bytree=colsample_bytree, learning_rate=learning_rate, random_state=12)\n",
    "    \n",
    "    model.fit(X_train_encoded, y_train)\n",
    "    Y_predicted = model.predict_proba(X_test_encoded)[:, 1]\n",
    "    \n",
    "    return - roc_auc_score(y_test, Y_predicted)\n",
    "\n",
    "space_lgbm = [(2, 128, 2), #num_leaves\n",
    "              (5, 100), #min_child_samples\n",
    "              (0.05, 1.0), #subsample\n",
    "              (0.1, 1.0), #colsample_bytree\n",
    "              (1e-3, 1e-1, 'log-uniform'), #learning_rate\n",
    "              [100, 150, 200, 250, 300, 350, 400, 450, 500] #n_estimators\n",
    "             ]\n",
    "\n",
    "resultado_lgbm = dummy_minimize(train_model_lgbm, space_lgbm, random_state=12, verbose=1, n_calls=30)"
   ]
  },
  {
   "cell_type": "code",
   "execution_count": 71,
   "metadata": {},
   "outputs": [
    {
     "data": {
      "text/plain": [
       "[128, 7, 0.5570524237112829, 0.11311746623687771, 0.06878504348963209, 500]"
      ]
     },
     "execution_count": 71,
     "metadata": {},
     "output_type": "execute_result"
    }
   ],
   "source": [
    "resultado_lgbm.x"
   ]
  },
  {
   "cell_type": "code",
   "execution_count": 72,
   "metadata": {},
   "outputs": [
    {
     "name": "stdout",
     "output_type": "stream",
     "text": [
      "              precision    recall  f1-score   support\n",
      "\n",
      "          no       0.91      0.98      0.94     11977\n",
      "         yes       0.65      0.26      0.38      1587\n",
      "\n",
      "    accuracy                           0.90     13564\n",
      "   macro avg       0.78      0.62      0.66     13564\n",
      "weighted avg       0.88      0.90      0.88     13564\n",
      "\n",
      "------\n",
      "Area sob a curva AUC: 0.880\n"
     ]
    },
    {
     "data": {
      "image/png": "[encoded data removed]",
      "text/plain": [
       "<Figure size 432x288 with 1 Axes>"
      ]
     },
     "metadata": {
      "needs_background": "light"
     },
     "output_type": "display_data"
    }
   ],
   "source": [
    "best_model_lgbm = LGBMClassifier(n_estimators=500, num_leaves=128, min_child_samples=7,\n",
    "                              subsample=0.55, colsample_bytree=0.11, learning_rate=0.07, \n",
    "                              random_state=12)\n",
    "    \n",
    "best_model_lgbm.fit(X_train_3, y_train_3)\n",
    "y1_predicted = best_model_lgbm.predict(X_test_encoded)\n",
    "y1_predicted_prob = best_model_lgbm.predict_proba(X_test_encoded)[:, 1]\n",
    "fpr, tpr, threshold = roc_curve(y_test.values, y1_predicted_prob)\n",
    "roc_auc = roc_auc_score(y_test, y1_predicted_prob)\n",
    "\n",
    "print(classification_report(y_test, y1_predicted, target_names=['no','yes']))\n",
    "print('------')\n",
    "print('Area sob a curva AUC: {:.03f}'.format(roc_auc))\n",
    "\n",
    "plt.plot(fpr, tpr, lw=1)\n",
    "#plot_roc_curve(best_model_s, X1_test_encoded, y1_test)\n",
    "plt.plot([0,1],[0,1], '--', color=(0.6,0.6,0.6), label=\"sorte\")\n",
    "plt.title(\"Curva ROC\", fontsize=12)\n",
    "\n",
    "plt.show()"
   ]
  },
  {
   "cell_type": "code",
   "execution_count": 73,
   "metadata": {},
   "outputs": [
    {
     "data": {
      "text/plain": [
       "array([[11757,   220],\n",
       "       [ 1170,   417]], dtype=int64)"
      ]
     },
     "execution_count": 73,
     "metadata": {},
     "output_type": "execute_result"
    }
   ],
   "source": [
    "cnf_matrix = confusion_matrix(y_test, y1_predicted)\n",
    "cnf_matrix"
   ]
  },
  {
   "cell_type": "code",
   "execution_count": null,
   "metadata": {},
   "outputs": [],
   "source": []
  }
 ],
 "metadata": {
  "kernelspec": {
   "display_name": "Python 3",
   "language": "python",
   "name": "python3"
  },
  "language_info": {
   "codemirror_mode": {
    "name": "ipython",
    "version": 3
   },
   "file_extension": ".py",
   "mimetype": "text/x-python",
   "name": "python",
   "nbconvert_exporter": "python",
   "pygments_lexer": "ipython3",
   "version": "3.7.4"
  }
 },
 "nbformat": 4,
 "nbformat_minor": 2
}
